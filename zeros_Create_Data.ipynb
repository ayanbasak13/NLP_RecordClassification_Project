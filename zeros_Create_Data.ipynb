{
 "cells": [
  {
   "cell_type": "code",
   "execution_count": 26,
   "metadata": {},
   "outputs": [],
   "source": [
    "import pandas as pd \n",
    "import fuzzywuzzy\n",
    "from fuzzywuzzy import fuzz\n",
    "import numpy as np\n",
    "import sklearn\n",
    "from sklearn.utils import shuffle\n",
    "\n",
    "import recordlinkage\n",
    "from recordlinkage.datasets import load_febrl4"
   ]
  },
  {
   "cell_type": "code",
   "execution_count": 27,
   "metadata": {},
   "outputs": [
    {
     "name": "stdout",
     "output_type": "stream",
     "text": [
      "5000\n",
      "5000\n",
      "Index(['given_name', 'surname', 'street_number', 'address_1', 'address_2',\n",
      "       'suburb', 'postcode', 'state', 'date_of_birth', 'soc_sec_id'],\n",
      "      dtype='object')\n"
     ]
    }
   ],
   "source": [
    "dfA, dfB = load_febrl4()\n",
    "print(len(dfA))\n",
    "print(len(dfB))\n",
    "print(dfA.columns)"
   ]
  },
  {
   "cell_type": "code",
   "execution_count": 28,
   "metadata": {},
   "outputs": [],
   "source": [
    "zeros_data = []"
   ]
  },
  {
   "cell_type": "code",
   "execution_count": 29,
   "metadata": {},
   "outputs": [],
   "source": [
    "def create_zeros_data(start,end) :\n",
    "    df1 = dfA.iloc[start:end,:]\n",
    "    df2 = dfB.iloc[start:end,:]\n",
    "    \n",
    "    data = []\n",
    "    #data1 = []\n",
    "\n",
    "    for i in range(500) :\n",
    "        l = []\n",
    "        #l1=[]\n",
    "        a = list(df1.iloc[i,:])\n",
    "        for j in range(500) :\n",
    "            l = []\n",
    "            l.extend(a)\n",
    "            b = list(df2.iloc[j,:])\n",
    "            if((fuzz.token_set_ratio(a[0],b[0]) < 80.0) and (fuzz.token_set_ratio(a[1],b[1]) < 80.0)) :\n",
    "                l.extend(b)\n",
    "                data.append(l)\n",
    "\n",
    "                \n",
    "    \n",
    "    data = pd.DataFrame(data)\n",
    "    #data1 = pd.DataFrame(data1)\n",
    "    data.columns = ['given_name_A', 'surname_A', 'street_number_A', 'address_1_A', 'address_2_A','suburb_A', 'postcode_A', 'state_A', 'date_of_birth_A', 'soc_sec_id_A','given_name_B', 'surname_B', 'street_number_B', 'address_1_B', 'address_2_B','suburb_B', 'postcode_B', 'state_B', 'date_of_birth_B', 'soc_sec_id_B']\n",
    "    data.to_csv(\"zd.csv\" , index=False)\n",
    "    \n",
    "    d1 = pd.read_csv(\"zd.csv\")\n",
    "    \n",
    "    \n",
    "    def dob_conv(dob) :\n",
    "        k=str(dob)\n",
    "        \n",
    "        return k\n",
    "    \n",
    "    d1[\"street_number_A\"] = d1[\"street_number_A\"].apply(dob_conv)\n",
    "    d1[\"street_number_B\"] = d1[\"street_number_B\"].apply(dob_conv)\n",
    "    \n",
    "    d1[\"date_of_birth_A\"] = d1[\"date_of_birth_A\"].apply(dob_conv)\n",
    "    d1[\"date_of_birth_B\"] = d1[\"date_of_birth_B\"].apply(dob_conv)\n",
    "    \n",
    "    d1[\"given_name_A\"] = d1[\"given_name_A\"].apply(dob_conv)\n",
    "    d1[\"given_name_B\"] = d1[\"given_name_B\"].apply(dob_conv)\n",
    "    \n",
    "    d1[\"surname_A\"] = d1[\"surname_A\"].apply(dob_conv)\n",
    "    d1[\"surname_B\"] = d1[\"surname_B\"].apply(dob_conv)\n",
    "    \n",
    "    d1[\"address_1_A\"] = d1[\"address_1_A\"].apply(dob_conv)\n",
    "    d1[\"address_1_B\"] = d1[\"address_1_B\"].apply(dob_conv)\n",
    "    \n",
    "    \n",
    "    d1[\"address_2_A\"] = d1[\"address_2_A\"].apply(dob_conv)\n",
    "    d1[\"address_2_B\"] = d1[\"address_2_B\"].apply(dob_conv)\n",
    "    \n",
    "    d1[\"suburb_A\"] = d1[\"suburb_A\"].apply(dob_conv)\n",
    "    d1[\"suburb_B\"] = d1[\"suburb_B\"].apply(dob_conv)\n",
    "    \n",
    "    d1[\"state_A\"] = d1[\"state_A\"].apply(dob_conv)\n",
    "    d1[\"state_B\"] = d1[\"state_B\"].apply(dob_conv)\n",
    "    \n",
    "    labels = [0]*len(d1)\n",
    "    \n",
    "    d1[\"match\"] = labels\n",
    "    \n",
    "    \n",
    "\n",
    "    for i,r in d1.iterrows() :\n",
    "        if(r[\"match\"] == 0) :\n",
    "            zeros_data.append(r)\n",
    "\n",
    "    z = zeros_data  \n",
    "        \n",
    "    return z"
   ]
  },
  {
   "cell_type": "code",
   "execution_count": 30,
   "metadata": {},
   "outputs": [],
   "source": [
    "for i in range(0,5000,1000):\n",
    "    c = create_zeros_data(i+200,i+700)\n"
   ]
  },
  {
   "cell_type": "code",
   "execution_count": 31,
   "metadata": {},
   "outputs": [
    {
     "data": {
      "text/plain": [
       "1237275"
      ]
     },
     "execution_count": 31,
     "metadata": {},
     "output_type": "execute_result"
    }
   ],
   "source": [
    "len(zeros_data)"
   ]
  },
  {
   "cell_type": "code",
   "execution_count": 32,
   "metadata": {},
   "outputs": [],
   "source": [
    "zeros_data = shuffle(zeros_data)"
   ]
  },
  {
   "cell_type": "code",
   "execution_count": 33,
   "metadata": {},
   "outputs": [],
   "source": [
    "zeros_data = pd.DataFrame(zeros_data)"
   ]
  },
  {
   "cell_type": "code",
   "execution_count": 34,
   "metadata": {},
   "outputs": [
    {
     "data": {
      "text/html": [
       "<div>\n",
       "<style scoped>\n",
       "    .dataframe tbody tr th:only-of-type {\n",
       "        vertical-align: middle;\n",
       "    }\n",
       "\n",
       "    .dataframe tbody tr th {\n",
       "        vertical-align: top;\n",
       "    }\n",
       "\n",
       "    .dataframe thead th {\n",
       "        text-align: right;\n",
       "    }\n",
       "</style>\n",
       "<table border=\"1\" class=\"dataframe\">\n",
       "  <thead>\n",
       "    <tr style=\"text-align: right;\">\n",
       "      <th></th>\n",
       "      <th>given_name_A</th>\n",
       "      <th>surname_A</th>\n",
       "      <th>street_number_A</th>\n",
       "      <th>address_1_A</th>\n",
       "      <th>address_2_A</th>\n",
       "      <th>suburb_A</th>\n",
       "      <th>postcode_A</th>\n",
       "      <th>state_A</th>\n",
       "      <th>date_of_birth_A</th>\n",
       "      <th>soc_sec_id_A</th>\n",
       "      <th>...</th>\n",
       "      <th>surname_B</th>\n",
       "      <th>street_number_B</th>\n",
       "      <th>address_1_B</th>\n",
       "      <th>address_2_B</th>\n",
       "      <th>suburb_B</th>\n",
       "      <th>postcode_B</th>\n",
       "      <th>state_B</th>\n",
       "      <th>date_of_birth_B</th>\n",
       "      <th>soc_sec_id_B</th>\n",
       "      <th>match</th>\n",
       "    </tr>\n",
       "  </thead>\n",
       "  <tbody>\n",
       "    <tr>\n",
       "      <th>58466</th>\n",
       "      <td>mackenzie</td>\n",
       "      <td>sherriff</td>\n",
       "      <td>34.0</td>\n",
       "      <td>pirani place</td>\n",
       "      <td>nan</td>\n",
       "      <td>scarborough</td>\n",
       "      <td>2094</td>\n",
       "      <td>nsw</td>\n",
       "      <td>19610123.0</td>\n",
       "      <td>8088200</td>\n",
       "      <td>...</td>\n",
       "      <td>stagoll</td>\n",
       "      <td>65.0</td>\n",
       "      <td>tyson street</td>\n",
       "      <td>bypass road</td>\n",
       "      <td>cleveland</td>\n",
       "      <td>3150</td>\n",
       "      <td>nsw</td>\n",
       "      <td>19190521.0</td>\n",
       "      <td>3941516</td>\n",
       "      <td>0</td>\n",
       "    </tr>\n",
       "    <tr>\n",
       "      <th>193087</th>\n",
       "      <td>kyle</td>\n",
       "      <td>clarke</td>\n",
       "      <td>19.0</td>\n",
       "      <td>archibald street</td>\n",
       "      <td>little forest</td>\n",
       "      <td>florey</td>\n",
       "      <td>4109</td>\n",
       "      <td>qld</td>\n",
       "      <td>19380419.0</td>\n",
       "      <td>6477305</td>\n",
       "      <td>...</td>\n",
       "      <td>ryan</td>\n",
       "      <td>5.0</td>\n",
       "      <td>wheeler crescent</td>\n",
       "      <td>melrose clinic</td>\n",
       "      <td>cooaroo</td>\n",
       "      <td>3198</td>\n",
       "      <td>nsw</td>\n",
       "      <td>19581209.0</td>\n",
       "      <td>8497762</td>\n",
       "      <td>0</td>\n",
       "    </tr>\n",
       "    <tr>\n",
       "      <th>130926</th>\n",
       "      <td>maxin</td>\n",
       "      <td>tchung</td>\n",
       "      <td>10.0</td>\n",
       "      <td>pullen street</td>\n",
       "      <td>emmaus vlge</td>\n",
       "      <td>cabarlah</td>\n",
       "      <td>3620</td>\n",
       "      <td>qld</td>\n",
       "      <td>19060604.0</td>\n",
       "      <td>6340831</td>\n",
       "      <td>...</td>\n",
       "      <td>champion de crespign</td>\n",
       "      <td>8.0</td>\n",
       "      <td>deuchar lcose</td>\n",
       "      <td>lanena lodge</td>\n",
       "      <td>ryde</td>\n",
       "      <td>3181</td>\n",
       "      <td>qld</td>\n",
       "      <td>19230403.0</td>\n",
       "      <td>3235310</td>\n",
       "      <td>0</td>\n",
       "    </tr>\n",
       "    <tr>\n",
       "      <th>186650</th>\n",
       "      <td>ethan</td>\n",
       "      <td>mccombe</td>\n",
       "      <td>624.0</td>\n",
       "      <td>mcnamara street</td>\n",
       "      <td>copely</td>\n",
       "      <td>tailem bend</td>\n",
       "      <td>4740</td>\n",
       "      <td>wa</td>\n",
       "      <td>19020126.0</td>\n",
       "      <td>1088335</td>\n",
       "      <td>...</td>\n",
       "      <td>karlovcec</td>\n",
       "      <td>5.0</td>\n",
       "      <td>alberga street</td>\n",
       "      <td>nan</td>\n",
       "      <td>eastern heights</td>\n",
       "      <td>3228</td>\n",
       "      <td>nsw</td>\n",
       "      <td>19250114.0</td>\n",
       "      <td>9531225</td>\n",
       "      <td>0</td>\n",
       "    </tr>\n",
       "    <tr>\n",
       "      <th>46471</th>\n",
       "      <td>ruby</td>\n",
       "      <td>hentze</td>\n",
       "      <td>30.0</td>\n",
       "      <td>harkness street</td>\n",
       "      <td>glenearra</td>\n",
       "      <td>florey</td>\n",
       "      <td>4178</td>\n",
       "      <td>sa</td>\n",
       "      <td>19030606.0</td>\n",
       "      <td>2379739</td>\n",
       "      <td>...</td>\n",
       "      <td>wilde</td>\n",
       "      <td>13.0</td>\n",
       "      <td>cumberleg ecrescent</td>\n",
       "      <td>nan</td>\n",
       "      <td>bourke</td>\n",
       "      <td>4740</td>\n",
       "      <td>qld</td>\n",
       "      <td>19260702.0</td>\n",
       "      <td>7889277</td>\n",
       "      <td>0</td>\n",
       "    </tr>\n",
       "  </tbody>\n",
       "</table>\n",
       "<p>5 rows × 21 columns</p>\n",
       "</div>"
      ],
      "text/plain": [
       "       given_name_A surname_A street_number_A       address_1_A  \\\n",
       "58466     mackenzie  sherriff            34.0      pirani place   \n",
       "193087         kyle    clarke            19.0  archibald street   \n",
       "130926        maxin    tchung            10.0     pullen street   \n",
       "186650        ethan   mccombe           624.0   mcnamara street   \n",
       "46471          ruby    hentze            30.0   harkness street   \n",
       "\n",
       "          address_2_A     suburb_A  postcode_A state_A date_of_birth_A  \\\n",
       "58466             nan  scarborough        2094     nsw      19610123.0   \n",
       "193087  little forest       florey        4109     qld      19380419.0   \n",
       "130926    emmaus vlge     cabarlah        3620     qld      19060604.0   \n",
       "186650         copely  tailem bend        4740      wa      19020126.0   \n",
       "46471       glenearra       florey        4178      sa      19030606.0   \n",
       "\n",
       "        soc_sec_id_A  ...               surname_B street_number_B  \\\n",
       "58466        8088200  ...                 stagoll            65.0   \n",
       "193087       6477305  ...                    ryan             5.0   \n",
       "130926       6340831  ...    champion de crespign             8.0   \n",
       "186650       1088335  ...               karlovcec             5.0   \n",
       "46471        2379739  ...                   wilde            13.0   \n",
       "\n",
       "                address_1_B     address_2_B         suburb_B postcode_B  \\\n",
       "58466          tyson street     bypass road        cleveland       3150   \n",
       "193087     wheeler crescent  melrose clinic          cooaroo       3198   \n",
       "130926        deuchar lcose    lanena lodge             ryde       3181   \n",
       "186650       alberga street             nan  eastern heights       3228   \n",
       "46471   cumberleg ecrescent             nan           bourke       4740   \n",
       "\n",
       "        state_B date_of_birth_B soc_sec_id_B  match  \n",
       "58466       nsw      19190521.0      3941516      0  \n",
       "193087      nsw      19581209.0      8497762      0  \n",
       "130926      qld      19230403.0      3235310      0  \n",
       "186650      nsw      19250114.0      9531225      0  \n",
       "46471       qld      19260702.0      7889277      0  \n",
       "\n",
       "[5 rows x 21 columns]"
      ]
     },
     "execution_count": 34,
     "metadata": {},
     "output_type": "execute_result"
    }
   ],
   "source": [
    "zeros_data.head()"
   ]
  },
  {
   "cell_type": "code",
   "execution_count": 35,
   "metadata": {},
   "outputs": [],
   "source": [
    "zeros_data = zeros_data.iloc[0:1000,:]"
   ]
  },
  {
   "cell_type": "code",
   "execution_count": 36,
   "metadata": {},
   "outputs": [],
   "source": [
    "zeros_data.to_csv(\"zeros_file_2.csv\" , index = False)"
   ]
  },
  {
   "cell_type": "code",
   "execution_count": 37,
   "metadata": {},
   "outputs": [
    {
     "data": {
      "text/plain": [
       "1000"
      ]
     },
     "execution_count": 37,
     "metadata": {},
     "output_type": "execute_result"
    }
   ],
   "source": [
    "len(zeros_data)"
   ]
  },
  {
   "cell_type": "code",
   "execution_count": null,
   "metadata": {},
   "outputs": [],
   "source": []
  }
 ],
 "metadata": {
  "kernelspec": {
   "display_name": "Python 3",
   "language": "python",
   "name": "python3"
  },
  "language_info": {
   "codemirror_mode": {
    "name": "ipython",
    "version": 3
   },
   "file_extension": ".py",
   "mimetype": "text/x-python",
   "name": "python",
   "nbconvert_exporter": "python",
   "pygments_lexer": "ipython3",
   "version": "3.6.6"
  }
 },
 "nbformat": 4,
 "nbformat_minor": 2
}
