{
 "cells": [
  {
   "cell_type": "code",
   "execution_count": 1,
   "metadata": {},
   "outputs": [
    {
     "name": "stderr",
     "output_type": "stream",
     "text": [
      "Using TensorFlow backend.\n"
     ]
    }
   ],
   "source": [
    "import pandas as pd\n",
    "import numpy as np\n",
    "\n",
    "from keras.preprocessing.sequence import pad_sequences\n",
    "from keras.models import Model, Input, Sequential\n",
    "from keras.layers import LSTM, Embedding, merge, Dense, TimeDistributed, Dropout\n",
    "from keras.layers import Bidirectional, concatenate, SpatialDropout1D\n",
    "import sklearn\n",
    "from sklearn.metrics.pairwise import cosine_similarity\n",
    "from numpy import dot\n",
    "from numpy.linalg import norm\n",
    "from numpy import dot\n",
    "\n",
    "\n",
    "import sklearn\n",
    "from sklearn.metrics.pairwise import cosine_similarity\n",
    "from keras.layers import add"
   ]
  },
  {
   "cell_type": "code",
   "execution_count": 2,
   "metadata": {},
   "outputs": [],
   "source": [
    "R1 = [\"Name\",\"Address\",\"Contact\",\"Sex\",\"Guardian's-Name\"]\n",
    "R2 = [\"name\",\"Adres\",\"Phone-No\",\"Gender\",\"Father's-Name\"]"
   ]
  },
  {
   "cell_type": "code",
   "execution_count": 3,
   "metadata": {},
   "outputs": [
    {
     "data": {
      "text/html": [
       "<div>\n",
       "<style scoped>\n",
       "    .dataframe tbody tr th:only-of-type {\n",
       "        vertical-align: middle;\n",
       "    }\n",
       "\n",
       "    .dataframe tbody tr th {\n",
       "        vertical-align: top;\n",
       "    }\n",
       "\n",
       "    .dataframe thead th {\n",
       "        text-align: right;\n",
       "    }\n",
       "</style>\n",
       "<table border=\"1\" class=\"dataframe\">\n",
       "  <thead>\n",
       "    <tr style=\"text-align: right;\">\n",
       "      <th></th>\n",
       "      <th>Sentence #</th>\n",
       "      <th>Word</th>\n",
       "      <th>POS</th>\n",
       "      <th>Tag</th>\n",
       "    </tr>\n",
       "  </thead>\n",
       "  <tbody>\n",
       "    <tr>\n",
       "      <th>1048570</th>\n",
       "      <td>Sentence: 47959</td>\n",
       "      <td>they</td>\n",
       "      <td>PRP</td>\n",
       "      <td>O</td>\n",
       "    </tr>\n",
       "    <tr>\n",
       "      <th>1048571</th>\n",
       "      <td>Sentence: 47959</td>\n",
       "      <td>responded</td>\n",
       "      <td>VBD</td>\n",
       "      <td>O</td>\n",
       "    </tr>\n",
       "    <tr>\n",
       "      <th>1048572</th>\n",
       "      <td>Sentence: 47959</td>\n",
       "      <td>to</td>\n",
       "      <td>TO</td>\n",
       "      <td>O</td>\n",
       "    </tr>\n",
       "    <tr>\n",
       "      <th>1048573</th>\n",
       "      <td>Sentence: 47959</td>\n",
       "      <td>the</td>\n",
       "      <td>DT</td>\n",
       "      <td>O</td>\n",
       "    </tr>\n",
       "    <tr>\n",
       "      <th>1048574</th>\n",
       "      <td>Sentence: 47959</td>\n",
       "      <td>attack</td>\n",
       "      <td>NN</td>\n",
       "      <td>O</td>\n",
       "    </tr>\n",
       "  </tbody>\n",
       "</table>\n",
       "</div>"
      ],
      "text/plain": [
       "              Sentence #       Word  POS Tag\n",
       "1048570  Sentence: 47959       they  PRP   O\n",
       "1048571  Sentence: 47959  responded  VBD   O\n",
       "1048572  Sentence: 47959         to   TO   O\n",
       "1048573  Sentence: 47959        the   DT   O\n",
       "1048574  Sentence: 47959     attack   NN   O"
      ]
     },
     "execution_count": 3,
     "metadata": {},
     "output_type": "execute_result"
    }
   ],
   "source": [
    "data = pd.read_csv(\"ner_dataset.csv\", encoding=\"latin1\")\n",
    "\n",
    "data = data.fillna(method=\"ffill\")\n",
    "data.tail(5)"
   ]
  },
  {
   "cell_type": "code",
   "execution_count": 4,
   "metadata": {},
   "outputs": [
    {
     "name": "stdout",
     "output_type": "stream",
     "text": [
      "Words[0:10] : \n",
      "['latina', 'hats', 'pager', 'acapulco', 'suffered', 'anti-aircraft', 'mengal', '40-year-old', 're-establishing', 'santuario']\n",
      "Number of characters : 72\n"
     ]
    }
   ],
   "source": [
    "wordwa = list(set(data[\"Word\"].values))\n",
    "words = []\n",
    "\n",
    "for w in wordwa :\n",
    "    w = str(w)\n",
    "    w = w.lower()\n",
    "    words.append(w)\n",
    "print(\"Words[0:10] : \")\n",
    "print(words[0:10])\n",
    "n_words = len(words); \n",
    "n_words\n",
    "\n",
    "chars = set([w_i for w in words for w_i in w])\n",
    "n_chars = len(chars)\n",
    "print(\"Number of characters : \" + str(n_chars))\n",
    "\n",
    "char2idx = {c: i + 2 for i, c in enumerate(chars)}\n",
    "char2idx[\"UNK\"] = 1\n",
    "char2idx[\"PAD\"] = 0"
   ]
  },
  {
   "cell_type": "code",
   "execution_count": 5,
   "metadata": {},
   "outputs": [],
   "source": [
    "max_word_length = 25\n",
    "embedded_char_vector_length = 74 # Length of character dictionary\n",
    "char_feature_output = 10\n",
    "\n",
    "X_char = []\n",
    "for word in words :\n",
    "    l1 = []\n",
    "    #if (len(word) > max_word_length) :\n",
    "    #    print(len(word))\n",
    "    for i in range(max_word_length):\n",
    "        try:\n",
    "            l1.append(char2idx.get(word[i]))\n",
    "        except:\n",
    "            l1.append(char2idx.get(\"PAD\"))    \n",
    "    \n",
    "    X_char.append(l1)"
   ]
  },
  {
   "cell_type": "code",
   "execution_count": 6,
   "metadata": {},
   "outputs": [
    {
     "name": "stdout",
     "output_type": "stream",
     "text": [
      "_________________________________________________________________\n",
      "Layer (type)                 Output Shape              Param #   \n",
      "=================================================================\n",
      "char_input (InputLayer)      (None, 25)                0         \n",
      "_________________________________________________________________\n",
      "embedding_1 (Embedding)      (None, 25, 16)            1184      \n",
      "_________________________________________________________________\n",
      "dropout_1 (Dropout)          (None, 25, 16)            0         \n",
      "_________________________________________________________________\n",
      "bidirectional_1 (Bidirection (None, 10)                880       \n",
      "=================================================================\n",
      "Total params: 2,064\n",
      "Trainable params: 2,064\n",
      "Non-trainable params: 0\n",
      "_________________________________________________________________\n"
     ]
    }
   ],
   "source": [
    "char_input = Input(shape=(max_word_length,), dtype='float32', name='char_input')\n",
    "char_input1 = Embedding(embedded_char_vector_length, 16, input_length = max_word_length)(char_input)\n",
    "char_input2 = Dropout(0.2)(char_input1)\n",
    "'''lstm_out_forward = LSTM(char_feature_output, dropout=0.2, recurrent_dropout=0.2)(char_input2)\n",
    "lstm_out_backward = LSTM(char_feature_output, go_backwards=True, dropout=0.2, recurrent_dropout=0.2)(char_input2)'''\n",
    "\n",
    "merged = (Bidirectional(LSTM(units=5, return_sequences=False,trainable = False,\n",
    "                                recurrent_dropout=0.5)))(char_input2)\n",
    "#merged = merge([lstm_out_forward, lstm_out_backward], mode='concat', concat_axis=1)\n",
    "\n",
    "#merged = add([lstm_out_forward, lstm_out_backward])\n",
    "#model = Model(input=[char_input], output=[merged])\n",
    "model = Model(char_input, merged)\n",
    "\n",
    "\n",
    "model.summary()"
   ]
  },
  {
   "cell_type": "code",
   "execution_count": 7,
   "metadata": {},
   "outputs": [
    {
     "name": "stdout",
     "output_type": "stream",
     "text": [
      "[[42 31 56 46 59 31  0  0  0  0  0  0  0  0  0  0  0  0  0  0  0  0  0  0\n",
      "   0]\n",
      " [41 31 56 17  0  0  0  0  0  0  0  0  0  0  0  0  0  0  0  0  0  0  0  0\n",
      "   0]\n",
      " [33 31 70 29 38  0  0  0  0  0  0  0  0  0  0  0  0  0  0  0  0  0  0  0\n",
      "   0]\n",
      " [31 68 31 33 37 42 68  5  0  0  0  0  0  0  0  0  0  0  0  0  0  0  0  0\n",
      "   0]\n",
      " [17 37 27 27 29 38 29 44  0  0  0  0  0  0  0  0  0  0  0  0  0  0  0  0\n",
      "   0]]\n",
      "\n",
      "\n",
      "(5, 10)\n",
      "\n",
      "\n",
      "[[ 0.00735591 -0.00524074  0.0016058   0.0223674   0.02140207 -0.00288137\n",
      "   0.03744206  0.00388234  0.00684869 -0.00088662]\n",
      " [ 0.00735201 -0.0052412   0.00163848  0.02234489  0.02140816 -0.00311222\n",
      "   0.01147949 -0.00541078  0.00227256 -0.00565447]\n",
      " [ 0.00742292 -0.0052194   0.00169454  0.02244501  0.02157685  0.00806455\n",
      "   0.02291041  0.01125564  0.00720868 -0.00309351]\n",
      " [ 0.00726558 -0.0052624   0.0014167   0.02228511  0.02115925  0.00276302\n",
      "   0.03926675  0.01618589 -0.00622101  0.00833541]\n",
      " [ 0.00721055 -0.00529664  0.00145733  0.02219378  0.02099537  0.00344224\n",
      "   0.00030344 -0.00919242  0.02126686 -0.00121963]]\n"
     ]
    }
   ],
   "source": [
    "X1 = np.array(X_char[0:5])\n",
    "print(X1)\n",
    "train_char_vectors = model.predict(X1)\n",
    "\n",
    "\n",
    "print(\"\\n\")\n",
    "print(train_char_vectors.shape)\n",
    "print(\"\\n\")\n",
    "print(train_char_vectors)"
   ]
  },
  {
   "cell_type": "code",
   "execution_count": 8,
   "metadata": {},
   "outputs": [],
   "source": [
    "def pred_new_num_enc(s) :\n",
    "    \n",
    "    pred = s\n",
    "\n",
    "    l = []\n",
    "    ip = []\n",
    "    k=0\n",
    "\n",
    "    pred = pred.lower()\n",
    "    print(pred)\n",
    "    for i in range(len(pred)):\n",
    "        l.append(char2idx.get(pred[i]))\n",
    "    #print(l)\n",
    "    #print(char2idx.get(\"PAD\"))        \n",
    "\n",
    "\n",
    "    length = len(l)\n",
    "    #print(length)\n",
    "\n",
    "    if length < max_word_length :\n",
    "        k = max_word_length - length\n",
    "        #print(k)\n",
    "\n",
    "        for i in range (0,k) :\n",
    "            l.append(char2idx.get(\"PAD\"))    \n",
    "\n",
    "    else :\n",
    "        l = l[:max_word_length]\n",
    "    #ip.append(l)\n",
    "\n",
    "    l = np.array([l])\n",
    "    #print(l)\n",
    "    \n",
    "    return l"
   ]
  },
  {
   "cell_type": "code",
   "execution_count": 9,
   "metadata": {},
   "outputs": [],
   "source": [
    "def pred_new_vec(l) :\n",
    "    train_char_vectors = model.predict(l)\n",
    "\n",
    "    #print(train_char_vectors)\n",
    "    \n",
    "    return train_char_vectors"
   ]
  },
  {
   "cell_type": "code",
   "execution_count": 10,
   "metadata": {},
   "outputs": [],
   "source": [
    "def form_list(R) :\n",
    "    lR = []\n",
    "    for r in R :\n",
    "        a = pred_new_num_enc(r)\n",
    "        #print(a)\n",
    "        #print(\"\\n\")\n",
    "        a = pred_new_vec(a)\n",
    "        #print(a)\n",
    "        #print(\"\\n\")    \n",
    "        lR.append(a)\n",
    "        #print(lR)\n",
    "        \n",
    "    lR = np.array(lR)\n",
    "    #print(lR.shape)\n",
    "\n",
    "    #np.reshape(lR1,(5,10))\n",
    "    lR = lR[:,0,:]\n",
    "\n",
    "    #print(lR1)\n",
    "    #print(\"\\n\")\n",
    "    \n",
    "    print(lR.shape)\n",
    "    print(\"\\n\")\n",
    "    #print(lR)\n",
    "    print(lR.shape)\n",
    "    lR = lR.flatten()\n",
    "\n",
    "    print(lR.shape)\n",
    "    \n",
    "    lR = list(lR)\n",
    "    \n",
    "    print(lR)\n",
    "    print(len(lR))\n",
    "    \n",
    "    return lR"
   ]
  },
  {
   "cell_type": "code",
   "execution_count": 11,
   "metadata": {},
   "outputs": [
    {
     "name": "stdout",
     "output_type": "stream",
     "text": [
      "name\n",
      "address\n",
      "contact\n",
      "sex\n",
      "guardian's-name\n",
      "(5, 10)\n",
      "\n",
      "\n",
      "(5, 10)\n",
      "(50,)\n",
      "[0.0072833523, -0.0052619516, 0.0014931209, 0.022276362, 0.021285735, 0.009103995, 0.021347705, -0.0058705215, 0.011582155, 0.0008652805, 0.007286784, -0.005284902, 0.0016639757, 0.022247, 0.021231093, 0.009027433, 0.012712594, 0.009841611, 0.007956776, 0.0076008826, 0.007228851, -0.0053097815, 0.0015090611, 0.022216588, 0.021072358, 0.00032139357, 0.04641819, 0.02060448, 0.0068478878, 0.0026252328, 0.0073550274, -0.005236847, 0.001607551, 0.022356726, 0.021429999, 0.017235031, 0.003480987, -0.0031980716, 0.018067095, -0.0077027776, 0.006490308, -0.0054110517, 0.00026343076, 0.021396365, 0.018491117, -0.012052889, 0.017090514, -0.0060704397, 0.0064239656, -0.010192778]\n",
      "50\n"
     ]
    }
   ],
   "source": [
    "lR1 = form_list(R1)"
   ]
  },
  {
   "cell_type": "code",
   "execution_count": 12,
   "metadata": {},
   "outputs": [
    {
     "name": "stdout",
     "output_type": "stream",
     "text": [
      "name\n",
      "adres\n",
      "phone-no\n",
      "gender\n",
      "father's-name\n",
      "(5, 10)\n",
      "\n",
      "\n",
      "(5, 10)\n",
      "(50,)\n",
      "[0.0072833523, -0.0052619516, 0.0014931209, 0.022276362, 0.021285735, 0.009103995, 0.021347705, -0.0058705215, 0.011582155, 0.0008652805, 0.007318842, -0.005256898, 0.0016047201, 0.022305153, 0.02133302, 0.010851118, 0.011658778, 0.0067960955, 0.007759862, 0.004300004, 0.0075333873, -0.0051642493, 0.0017032514, 0.022624344, 0.02176947, 0.013316419, 0.044364195, 0.019738289, 0.008953016, -0.012345662, 0.0073416815, -0.0052552256, 0.001600359, 0.022350442, 0.021388939, 0.007347314, 0.026630796, 0.0037201566, 0.0057451525, -0.0045844354, 0.0066208355, -0.005510031, 0.0006111294, 0.021552052, 0.019402089, -0.0068806475, 0.007715619, 0.0013025934, -0.0033829377, 0.0049925377]\n",
      "50\n"
     ]
    }
   ],
   "source": [
    "lR2 = form_list(R2)"
   ]
  },
  {
   "cell_type": "code",
   "execution_count": 13,
   "metadata": {},
   "outputs": [
    {
     "name": "stdout",
     "output_type": "stream",
     "text": [
      "[0.0072833523, -0.0052619516, 0.0014931209, 0.022276362, 0.021285735, 0.009103995, 0.021347705, -0.0058705215, 0.011582155, 0.0008652805, 0.007286784, -0.005284902, 0.0016639757, 0.022247, 0.021231093, 0.009027433, 0.012712594, 0.009841611, 0.007956776, 0.0076008826, 0.007228851, -0.0053097815, 0.0015090611, 0.022216588, 0.021072358, 0.00032139357, 0.04641819, 0.02060448, 0.0068478878, 0.0026252328, 0.0073550274, -0.005236847, 0.001607551, 0.022356726, 0.021429999, 0.017235031, 0.003480987, -0.0031980716, 0.018067095, -0.0077027776, 0.006490308, -0.0054110517, 0.00026343076, 0.021396365, 0.018491117, -0.012052889, 0.017090514, -0.0060704397, 0.0064239656, -0.010192778, 0.0072833523, -0.0052619516, 0.0014931209, 0.022276362, 0.021285735, 0.009103995, 0.021347705, -0.0058705215, 0.011582155, 0.0008652805, 0.007318842, -0.005256898, 0.0016047201, 0.022305153, 0.02133302, 0.010851118, 0.011658778, 0.0067960955, 0.007759862, 0.004300004, 0.0075333873, -0.0051642493, 0.0017032514, 0.022624344, 0.02176947, 0.013316419, 0.044364195, 0.019738289, 0.008953016, -0.012345662, 0.0073416815, -0.0052552256, 0.001600359, 0.022350442, 0.021388939, 0.007347314, 0.026630796, 0.0037201566, 0.0057451525, -0.0045844354, 0.0066208355, -0.005510031, 0.0006111294, 0.021552052, 0.019402089, -0.0068806475, 0.007715619, 0.0013025934, -0.0033829377, 0.0049925377]\n",
      "\n",
      "\n",
      "100\n"
     ]
    }
   ],
   "source": [
    "inputs_records = lR1 + lR2\n",
    "\n",
    "print(inputs_records)\n",
    "\n",
    "print(\"\\n\")\n",
    "print(len(inputs_records))"
   ]
  },
  {
   "cell_type": "code",
   "execution_count": 14,
   "metadata": {},
   "outputs": [
    {
     "data": {
      "text/plain": [
       "'arr = []\\n\\nfor rec in inputs_records :\\n    arr.append(rec)\\n    \\nprint(arr)'"
      ]
     },
     "execution_count": 14,
     "metadata": {},
     "output_type": "execute_result"
    }
   ],
   "source": [
    "'''arr = []\n",
    "\n",
    "for rec in inputs_records :\n",
    "    arr.append(rec)\n",
    "    \n",
    "print(arr)'''"
   ]
  },
  {
   "cell_type": "code",
   "execution_count": 15,
   "metadata": {},
   "outputs": [
    {
     "name": "stdout",
     "output_type": "stream",
     "text": [
      "(1, 100)\n",
      "_________________________________________________________________\n",
      "Layer (type)                 Output Shape              Param #   \n",
      "=================================================================\n",
      "dense_1 (Dense)              (None, 50)                5050      \n",
      "_________________________________________________________________\n",
      "dense_2 (Dense)              (None, 1)                 51        \n",
      "=================================================================\n",
      "Total params: 5,101\n",
      "Trainable params: 5,101\n",
      "Non-trainable params: 0\n",
      "_________________________________________________________________\n"
     ]
    }
   ],
   "source": [
    "inputs_records = np.array([inputs_records])\n",
    "print(inputs_records.shape)\n",
    "\n",
    "model = Sequential()\n",
    "model.add(Dense(50, input_shape = (100,), activation='relu'))\n",
    "model.add(Dense(1, activation='sigmoid'))\n",
    "\n",
    "model.summary()"
   ]
  },
  {
   "cell_type": "code",
   "execution_count": 19,
   "metadata": {},
   "outputs": [
    {
     "name": "stdout",
     "output_type": "stream",
     "text": [
      "[[0.4996919]]\n"
     ]
    }
   ],
   "source": [
    "prediction = model.predict(inputs_records)\n",
    "print(prediction)"
   ]
  },
  {
   "cell_type": "code",
   "execution_count": 24,
   "metadata": {},
   "outputs": [
    {
     "name": "stdout",
     "output_type": "stream",
     "text": [
      "0.0\n"
     ]
    }
   ],
   "source": [
    "print(round(prediction[0,0]))"
   ]
  },
  {
   "cell_type": "code",
   "execution_count": null,
   "metadata": {},
   "outputs": [],
   "source": []
  }
 ],
 "metadata": {
  "kernelspec": {
   "display_name": "Python 3",
   "language": "python",
   "name": "python3"
  },
  "language_info": {
   "codemirror_mode": {
    "name": "ipython",
    "version": 3
   },
   "file_extension": ".py",
   "mimetype": "text/x-python",
   "name": "python",
   "nbconvert_exporter": "python",
   "pygments_lexer": "ipython3",
   "version": "3.6.6"
  }
 },
 "nbformat": 4,
 "nbformat_minor": 2
}
