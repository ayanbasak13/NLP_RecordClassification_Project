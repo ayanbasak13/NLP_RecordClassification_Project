{
 "cells": [
  {
   "cell_type": "code",
   "execution_count": 1,
   "metadata": {},
   "outputs": [
    {
     "name": "stderr",
     "output_type": "stream",
     "text": [
      "Using TensorFlow backend.\n"
     ]
    }
   ],
   "source": [
    "import pandas as pd\n",
    "import numpy as np\n",
    "\n",
    "from keras.preprocessing.sequence import pad_sequences\n",
    "from keras.models import Model, Input, Sequential\n",
    "from keras.layers import LSTM, Embedding, merge, Dense, TimeDistributed, Dropout\n",
    "from keras.layers import Bidirectional, concatenate, SpatialDropout1D\n",
    "import sklearn\n",
    "from sklearn.metrics.pairwise import cosine_similarity\n",
    "from numpy import dot\n",
    "from numpy.linalg import norm\n",
    "from numpy import dot\n",
    "\n",
    "\n",
    "import sklearn\n",
    "from sklearn.metrics.pairwise import cosine_similarity\n",
    "from keras.layers import add"
   ]
  },
  {
   "cell_type": "code",
   "execution_count": 2,
   "metadata": {},
   "outputs": [],
   "source": [
    "R1 = [\"Name\",\"Address\",\"Contact\",\"Sex\",\"Guardian's-Name\"]\n",
    "R2 = [\"name\",\"Adres\",\"Phone-No\",\"Gender\",\"Father's-Name\"]"
   ]
  },
  {
   "cell_type": "code",
   "execution_count": 3,
   "metadata": {},
   "outputs": [
    {
     "data": {
      "text/html": [
       "<div>\n",
       "<style scoped>\n",
       "    .dataframe tbody tr th:only-of-type {\n",
       "        vertical-align: middle;\n",
       "    }\n",
       "\n",
       "    .dataframe tbody tr th {\n",
       "        vertical-align: top;\n",
       "    }\n",
       "\n",
       "    .dataframe thead th {\n",
       "        text-align: right;\n",
       "    }\n",
       "</style>\n",
       "<table border=\"1\" class=\"dataframe\">\n",
       "  <thead>\n",
       "    <tr style=\"text-align: right;\">\n",
       "      <th></th>\n",
       "      <th>Sentence #</th>\n",
       "      <th>Word</th>\n",
       "      <th>POS</th>\n",
       "      <th>Tag</th>\n",
       "    </tr>\n",
       "  </thead>\n",
       "  <tbody>\n",
       "    <tr>\n",
       "      <th>1048570</th>\n",
       "      <td>Sentence: 47959</td>\n",
       "      <td>they</td>\n",
       "      <td>PRP</td>\n",
       "      <td>O</td>\n",
       "    </tr>\n",
       "    <tr>\n",
       "      <th>1048571</th>\n",
       "      <td>Sentence: 47959</td>\n",
       "      <td>responded</td>\n",
       "      <td>VBD</td>\n",
       "      <td>O</td>\n",
       "    </tr>\n",
       "    <tr>\n",
       "      <th>1048572</th>\n",
       "      <td>Sentence: 47959</td>\n",
       "      <td>to</td>\n",
       "      <td>TO</td>\n",
       "      <td>O</td>\n",
       "    </tr>\n",
       "    <tr>\n",
       "      <th>1048573</th>\n",
       "      <td>Sentence: 47959</td>\n",
       "      <td>the</td>\n",
       "      <td>DT</td>\n",
       "      <td>O</td>\n",
       "    </tr>\n",
       "    <tr>\n",
       "      <th>1048574</th>\n",
       "      <td>Sentence: 47959</td>\n",
       "      <td>attack</td>\n",
       "      <td>NN</td>\n",
       "      <td>O</td>\n",
       "    </tr>\n",
       "  </tbody>\n",
       "</table>\n",
       "</div>"
      ],
      "text/plain": [
       "              Sentence #       Word  POS Tag\n",
       "1048570  Sentence: 47959       they  PRP   O\n",
       "1048571  Sentence: 47959  responded  VBD   O\n",
       "1048572  Sentence: 47959         to   TO   O\n",
       "1048573  Sentence: 47959        the   DT   O\n",
       "1048574  Sentence: 47959     attack   NN   O"
      ]
     },
     "execution_count": 3,
     "metadata": {},
     "output_type": "execute_result"
    }
   ],
   "source": [
    "data = pd.read_csv(\"ner_dataset.csv\", encoding=\"latin1\")\n",
    "\n",
    "data = data.fillna(method=\"ffill\")\n",
    "data.tail(5)"
   ]
  },
  {
   "cell_type": "code",
   "execution_count": 4,
   "metadata": {},
   "outputs": [
    {
     "name": "stdout",
     "output_type": "stream",
     "text": [
      "Words[0:10] : \n",
      "['encircled', 'faustin', 'teacher', 'though', 'rigorous', 'ecc', 'abayi', 'competent', 'go-betweens', '340']\n",
      "Number of characters : 72\n"
     ]
    }
   ],
   "source": [
    "def case_conv(s) :\n",
    "    k = str(s).lower()\n",
    "\n",
    "    return k\n",
    "\n",
    "data[\"Word\"] = data[\"Word\"].apply(case_conv)\n",
    "\n",
    "wordwa = list(set(data[\"Word\"].values))\n",
    "words = []\n",
    "\n",
    "for w in wordwa :\n",
    "    w = str(w)\n",
    "    w = w.lower()\n",
    "    words.append(w)\n",
    "    \n",
    "print(\"Words[0:10] : \")\n",
    "print(words[0:10])\n",
    "n_words = len(words); \n",
    "n_words\n",
    "\n",
    "chars = set([w_i for w in words for w_i in w])\n",
    "n_chars = len(chars)\n",
    "print(\"Number of characters : \" + str(n_chars))\n",
    "\n",
    "char2idx = {c: i + 2 for i, c in enumerate(chars)}\n",
    "char2idx[\"UNK\"] = 1\n",
    "char2idx[\"PAD\"] = 0"
   ]
  },
  {
   "cell_type": "code",
   "execution_count": 6,
   "metadata": {},
   "outputs": [
    {
     "name": "stdout",
     "output_type": "stream",
     "text": [
      "{'t', '?', '.', '\\x85', 'k', '2', 'l', '9', 'e', 's', '\\xa0', '+', '(', ',', '[', '6', 'n', '\"', 'o', 'é', ':', 'ö', '\\x97', ']', '_', ')', 'x', '\\x93', '°', '/', 'w', '5', 'j', '@', '4', 'b', '-', 'i', '\\x91', 'p', 'r', 'ë', '3', '`', '\\x92', ';', 'ü', '7', 'u', '%', 'd', 'z', '\\x96', 'y', 'h', 'v', '&', '8', \"'\", '~', 'c', 'f', 'm', '1', 'g', 'q', '#', '0', '\\x94', 'a', '$', '!'}\n"
     ]
    }
   ],
   "source": [
    "print(chars)"
   ]
  },
  {
   "cell_type": "code",
   "execution_count": 7,
   "metadata": {},
   "outputs": [],
   "source": [
    "max_word_length = 25\n",
    "embedded_char_vector_length = 74 # Length of character dictionary\n",
    "char_feature_output = 10\n",
    "\n",
    "X_char = []\n",
    "for word in words :\n",
    "    l1 = []\n",
    "    #if (len(word) > max_word_length) :\n",
    "    #    print(len(word))\n",
    "    for i in range(max_word_length):\n",
    "        try:\n",
    "            l1.append(char2idx.get(word[i]))\n",
    "        except:\n",
    "            l1.append(char2idx.get(\"PAD\"))    \n",
    "    \n",
    "    X_char.append(l1)"
   ]
  },
  {
   "cell_type": "code",
   "execution_count": 8,
   "metadata": {},
   "outputs": [
    {
     "name": "stdout",
     "output_type": "stream",
     "text": [
      "_________________________________________________________________\n",
      "Layer (type)                 Output Shape              Param #   \n",
      "=================================================================\n",
      "char_input (InputLayer)      (None, 25)                0         \n",
      "_________________________________________________________________\n",
      "embedding_1 (Embedding)      (None, 25, 16)            1184      \n",
      "_________________________________________________________________\n",
      "dropout_1 (Dropout)          (None, 25, 16)            0         \n",
      "_________________________________________________________________\n",
      "bidirectional_1 (Bidirection (None, 10)                880       \n",
      "=================================================================\n",
      "Total params: 2,064\n",
      "Trainable params: 2,064\n",
      "Non-trainable params: 0\n",
      "_________________________________________________________________\n"
     ]
    }
   ],
   "source": [
    "char_input = Input(shape=(max_word_length,), dtype='float32', name='char_input')\n",
    "char_input1 = Embedding(embedded_char_vector_length, 16, input_length = max_word_length)(char_input)\n",
    "char_input2 = Dropout(0.2)(char_input1)\n",
    "'''lstm_out_forward = LSTM(char_feature_output, dropout=0.2, recurrent_dropout=0.2)(char_input2)\n",
    "lstm_out_backward = LSTM(char_feature_output, go_backwards=True, dropout=0.2, recurrent_dropout=0.2)(char_input2)'''\n",
    "\n",
    "merged = (Bidirectional(LSTM(units=5, return_sequences=False,trainable = False,\n",
    "                                recurrent_dropout=0.5)))(char_input2)\n",
    "#merged = merge([lstm_out_forward, lstm_out_backward], mode='concat', concat_axis=1)\n",
    "\n",
    "#merged = add([lstm_out_forward, lstm_out_backward])\n",
    "#model = Model(input=[char_input], output=[merged])\n",
    "model = Model(char_input, merged)\n",
    "\n",
    "\n",
    "model.summary()"
   ]
  },
  {
   "cell_type": "code",
   "execution_count": 9,
   "metadata": {},
   "outputs": [
    {
     "name": "stdout",
     "output_type": "stream",
     "text": [
      "[[10 18 62 39 42 62  8 10 52  0  0  0  0  0  0  0  0  0  0  0  0  0  0  0\n",
      "   0]\n",
      " [63 71 50 11  2 39 18  0  0  0  0  0  0  0  0  0  0  0  0  0  0  0  0  0\n",
      "   0]\n",
      " [ 2 10 71 62 56 10 42  0  0  0  0  0  0  0  0  0  0  0  0  0  0  0  0  0\n",
      "   0]\n",
      " [ 2 56 20 50 66 56  0  0  0  0  0  0  0  0  0  0  0  0  0  0  0  0  0  0\n",
      "   0]\n",
      " [42 39 66 20 42 20 50 11  0  0  0  0  0  0  0  0  0  0  0  0  0  0  0  0\n",
      "   0]]\n",
      "\n",
      "\n",
      "(5, 10)\n",
      "\n",
      "\n",
      "[[-0.01278956 -0.0260345   0.01869805 -0.00473439  0.04407868 -0.01404607\n",
      "   0.00533008 -0.00632584  0.01047952 -0.02199801]\n",
      " [-0.01270991 -0.02606502  0.01834428 -0.00536459  0.04831399  0.00079215\n",
      "   0.0051955   0.00110492 -0.00562118 -0.01084856]\n",
      " [-0.01338342 -0.02631043  0.01894302 -0.00462216  0.04605633 -0.00305164\n",
      "   0.00850239 -0.00663072  0.0001973  -0.01376939]\n",
      " [-0.01313376 -0.02622901  0.01858731 -0.00513753  0.04865635  0.00441031\n",
      "   0.01842081  0.00098834  0.00745362 -0.02542891]\n",
      " [-0.01318545 -0.02621371  0.01866391 -0.00503973  0.048139    0.01869542\n",
      "   0.00124471  0.01300869  0.01896682  0.00599683]]\n"
     ]
    }
   ],
   "source": [
    "X1 = np.array(X_char[0:5])\n",
    "print(X1)\n",
    "train_char_vectors = model.predict(X1)\n",
    "\n",
    "\n",
    "print(\"\\n\")\n",
    "print(train_char_vectors.shape)\n",
    "print(\"\\n\")\n",
    "print(train_char_vectors)"
   ]
  },
  {
   "cell_type": "code",
   "execution_count": 10,
   "metadata": {},
   "outputs": [],
   "source": [
    "def pred_new_num_enc(s) :\n",
    "    \n",
    "    pred = s\n",
    "\n",
    "    l = []\n",
    "    ip = []\n",
    "    k=0\n",
    "\n",
    "    pred = pred.lower()\n",
    "    print(pred)\n",
    "    for i in range(len(pred)):\n",
    "        l.append(char2idx.get(pred[i]))\n",
    "    #print(l)\n",
    "    #print(char2idx.get(\"PAD\"))        \n",
    "\n",
    "\n",
    "    length = len(l)\n",
    "    #print(length)\n",
    "\n",
    "    if length < max_word_length :\n",
    "        k = max_word_length - length\n",
    "        #print(k)\n",
    "\n",
    "        for i in range (0,k) :\n",
    "            l.append(char2idx.get(\"PAD\"))    \n",
    "\n",
    "    else :\n",
    "        l = l[:max_word_length]\n",
    "    #ip.append(l)\n",
    "\n",
    "    l = np.array([l])\n",
    "    #print(l)\n",
    "    \n",
    "    return l"
   ]
  },
  {
   "cell_type": "code",
   "execution_count": 11,
   "metadata": {},
   "outputs": [],
   "source": [
    "def pred_new_vec(l) :\n",
    "    train_char_vectors = model.predict(l)\n",
    "\n",
    "    #print(train_char_vectors)\n",
    "    \n",
    "    return train_char_vectors"
   ]
  },
  {
   "cell_type": "code",
   "execution_count": 12,
   "metadata": {},
   "outputs": [],
   "source": [
    "def form_list(R) :\n",
    "    lR = []\n",
    "    for r in R :\n",
    "        a = pred_new_num_enc(r)\n",
    "        #print(a)\n",
    "        #print(\"\\n\")\n",
    "        a = pred_new_vec(a)\n",
    "        #print(a)\n",
    "        #print(\"\\n\")    \n",
    "        lR.append(a)\n",
    "        #print(lR)\n",
    "        \n",
    "    lR = np.array(lR)\n",
    "    #print(lR.shape)\n",
    "\n",
    "    #np.reshape(lR1,(5,10))\n",
    "    lR = lR[:,0,:]\n",
    "\n",
    "    #print(lR1)\n",
    "    #print(\"\\n\")\n",
    "    \n",
    "    print(lR.shape)\n",
    "    print(\"\\n\")\n",
    "    #print(lR)\n",
    "    print(lR.shape)\n",
    "    lR = lR.flatten()\n",
    "\n",
    "    print(lR.shape)\n",
    "    \n",
    "    lR = list(lR)\n",
    "    \n",
    "    print(lR)\n",
    "    print(len(lR))\n",
    "    \n",
    "    return lR"
   ]
  },
  {
   "cell_type": "code",
   "execution_count": 13,
   "metadata": {},
   "outputs": [
    {
     "name": "stdout",
     "output_type": "stream",
     "text": [
      "name\n",
      "address\n",
      "contact\n",
      "sex\n",
      "guardian's-name\n",
      "(5, 10)\n",
      "\n",
      "\n",
      "(5, 10)\n",
      "(50,)\n",
      "[-0.013021096, -0.026189914, 0.018591857, -0.0050703157, 0.047639143, 0.015264592, 0.0031732074, 0.0065551354, 0.013116316, -0.019845117, -0.013105687, -0.026211847, 0.018798025, -0.00474335, 0.045635715, 0.02188702, 0.0045319214, -0.003092831, -0.0051387292, 0.024936318, -0.0127765685, -0.02609994, 0.018479738, -0.005143124, 0.047025107, -0.017181186, 0.019287255, -0.0110048605, 0.0017949457, -0.038013615, -0.013210144, -0.026249709, 0.018665785, -0.0050337045, 0.04825426, 0.039060928, 0.0046477765, -0.022801433, 0.023475593, -0.018840145, -0.012396035, -0.025010722, 0.018533623, -0.004664186, 0.04156445, 0.009309375, -0.010275597, 0.00042433196, 0.007938867, 0.0032581598]\n",
      "50\n"
     ]
    }
   ],
   "source": [
    "lR1 = form_list(R1)"
   ]
  },
  {
   "cell_type": "code",
   "execution_count": 14,
   "metadata": {},
   "outputs": [
    {
     "name": "stdout",
     "output_type": "stream",
     "text": [
      "name\n",
      "adres\n",
      "phone-no\n",
      "gender\n",
      "father's-name\n",
      "(5, 10)\n",
      "\n",
      "\n",
      "(5, 10)\n",
      "(50,)\n",
      "[-0.013021096, -0.026189914, 0.018591857, -0.0050703157, 0.047639143, 0.015264592, 0.0031732074, 0.0065551354, 0.013116316, -0.019845117, -0.013161755, -0.026246034, 0.018759407, -0.0048410846, 0.046624597, 0.028205957, 0.00074135716, -0.004140925, 0.00048044918, 0.016458778, -0.012759748, -0.026080573, 0.018409828, -0.005279363, 0.047905996, -0.011589454, 0.013057915, 0.0038509131, 0.0065379683, -0.020734012, -0.013213311, -0.02625097, 0.018772546, -0.0048431805, 0.046873413, 0.0123586105, 0.0008097728, -0.008544381, 0.021937018, -0.015701042, -0.013045046, -0.025757855, 0.018995794, -0.004300287, 0.04196324, -0.01138396, 0.0055164737, 0.0016156811, -0.017188268, 0.00516878]\n",
      "50\n"
     ]
    }
   ],
   "source": [
    "lR2 = form_list(R2)"
   ]
  },
  {
   "cell_type": "code",
   "execution_count": 15,
   "metadata": {},
   "outputs": [
    {
     "name": "stdout",
     "output_type": "stream",
     "text": [
      "[-0.013021096, -0.026189914, 0.018591857, -0.0050703157, 0.047639143, 0.015264592, 0.0031732074, 0.0065551354, 0.013116316, -0.019845117, -0.013105687, -0.026211847, 0.018798025, -0.00474335, 0.045635715, 0.02188702, 0.0045319214, -0.003092831, -0.0051387292, 0.024936318, -0.0127765685, -0.02609994, 0.018479738, -0.005143124, 0.047025107, -0.017181186, 0.019287255, -0.0110048605, 0.0017949457, -0.038013615, -0.013210144, -0.026249709, 0.018665785, -0.0050337045, 0.04825426, 0.039060928, 0.0046477765, -0.022801433, 0.023475593, -0.018840145, -0.012396035, -0.025010722, 0.018533623, -0.004664186, 0.04156445, 0.009309375, -0.010275597, 0.00042433196, 0.007938867, 0.0032581598, -0.013021096, -0.026189914, 0.018591857, -0.0050703157, 0.047639143, 0.015264592, 0.0031732074, 0.0065551354, 0.013116316, -0.019845117, -0.013161755, -0.026246034, 0.018759407, -0.0048410846, 0.046624597, 0.028205957, 0.00074135716, -0.004140925, 0.00048044918, 0.016458778, -0.012759748, -0.026080573, 0.018409828, -0.005279363, 0.047905996, -0.011589454, 0.013057915, 0.0038509131, 0.0065379683, -0.020734012, -0.013213311, -0.02625097, 0.018772546, -0.0048431805, 0.046873413, 0.0123586105, 0.0008097728, -0.008544381, 0.021937018, -0.015701042, -0.013045046, -0.025757855, 0.018995794, -0.004300287, 0.04196324, -0.01138396, 0.0055164737, 0.0016156811, -0.017188268, 0.00516878]\n",
      "\n",
      "\n",
      "100\n"
     ]
    }
   ],
   "source": [
    "inputs_records = lR1 + lR2\n",
    "\n",
    "print(inputs_records)\n",
    "\n",
    "print(\"\\n\")\n",
    "print(len(inputs_records))"
   ]
  },
  {
   "cell_type": "code",
   "execution_count": 16,
   "metadata": {},
   "outputs": [
    {
     "data": {
      "text/plain": [
       "'arr = []\\n\\nfor rec in inputs_records :\\n    arr.append(rec)\\n    \\nprint(arr)'"
      ]
     },
     "execution_count": 16,
     "metadata": {},
     "output_type": "execute_result"
    }
   ],
   "source": [
    "'''arr = []\n",
    "\n",
    "for rec in inputs_records :\n",
    "    arr.append(rec)\n",
    "    \n",
    "print(arr)'''"
   ]
  },
  {
   "cell_type": "code",
   "execution_count": 17,
   "metadata": {},
   "outputs": [
    {
     "name": "stdout",
     "output_type": "stream",
     "text": [
      "(1, 100)\n",
      "_________________________________________________________________\n",
      "Layer (type)                 Output Shape              Param #   \n",
      "=================================================================\n",
      "dense_1 (Dense)              (None, 50)                5050      \n",
      "_________________________________________________________________\n",
      "dense_2 (Dense)              (None, 1)                 51        \n",
      "=================================================================\n",
      "Total params: 5,101\n",
      "Trainable params: 5,101\n",
      "Non-trainable params: 0\n",
      "_________________________________________________________________\n"
     ]
    }
   ],
   "source": [
    "inputs_records = np.array([inputs_records])\n",
    "print(inputs_records.shape)\n",
    "\n",
    "model_mlp = Sequential()\n",
    "model_mlp.add(Dense(50, input_shape = (100,), activation='relu'))\n",
    "model_mlp.add(Dense(1, activation='sigmoid'))\n",
    "\n",
    "model_mlp.summary()"
   ]
  },
  {
   "cell_type": "code",
   "execution_count": 18,
   "metadata": {},
   "outputs": [
    {
     "name": "stdout",
     "output_type": "stream",
     "text": [
      "[[0.49723434]]\n"
     ]
    }
   ],
   "source": [
    "prediction = model_mlp.predict(inputs_records)\n",
    "print(prediction)"
   ]
  },
  {
   "cell_type": "code",
   "execution_count": 19,
   "metadata": {},
   "outputs": [
    {
     "name": "stdout",
     "output_type": "stream",
     "text": [
      "0.0\n"
     ]
    }
   ],
   "source": [
    "print(round(prediction[0,0]))"
   ]
  },
  {
   "cell_type": "code",
   "execution_count": 4,
   "metadata": {},
   "outputs": [
    {
     "ename": "NameError",
     "evalue": "name 'model_mlp' is not defined",
     "output_type": "error",
     "traceback": [
      "\u001b[1;31m---------------------------------------------------------------------------\u001b[0m",
      "\u001b[1;31mNameError\u001b[0m                                 Traceback (most recent call last)",
      "\u001b[1;32m<ipython-input-4-80250a6d57e7>\u001b[0m in \u001b[0;36m<module>\u001b[1;34m\u001b[0m\n\u001b[1;32m----> 1\u001b[1;33m \u001b[0mpredictions\u001b[0m \u001b[1;33m=\u001b[0m \u001b[0mmodel_mlp\u001b[0m\u001b[1;33m.\u001b[0m\u001b[0mpredict\u001b[0m\u001b[1;33m(\u001b[0m\u001b[0mX_test\u001b[0m\u001b[1;33m)\u001b[0m\u001b[1;33m\u001b[0m\u001b[0m\n\u001b[0m\u001b[0;32m      2\u001b[0m \u001b[1;31m# round predictions\u001b[0m\u001b[1;33m\u001b[0m\u001b[1;33m\u001b[0m\u001b[0m\n\u001b[0;32m      3\u001b[0m \u001b[0mrounded\u001b[0m \u001b[1;33m=\u001b[0m \u001b[1;33m[\u001b[0m\u001b[0mround\u001b[0m\u001b[1;33m(\u001b[0m\u001b[0mx\u001b[0m\u001b[1;33m[\u001b[0m\u001b[1;36m0\u001b[0m\u001b[1;33m]\u001b[0m\u001b[1;33m)\u001b[0m \u001b[1;32mfor\u001b[0m \u001b[0mx\u001b[0m \u001b[1;32min\u001b[0m \u001b[0mpredictions\u001b[0m\u001b[1;33m]\u001b[0m\u001b[1;33m\u001b[0m\u001b[0m\n",
      "\u001b[1;31mNameError\u001b[0m: name 'model_mlp' is not defined"
     ]
    }
   ],
   "source": []
  },
  {
   "cell_type": "code",
   "execution_count": null,
   "metadata": {},
   "outputs": [],
   "source": []
  }
 ],
 "metadata": {
  "kernelspec": {
   "display_name": "Python 3",
   "language": "python",
   "name": "python3"
  },
  "language_info": {
   "codemirror_mode": {
    "name": "ipython",
    "version": 3
   },
   "file_extension": ".py",
   "mimetype": "text/x-python",
   "name": "python",
   "nbconvert_exporter": "python",
   "pygments_lexer": "ipython3",
   "version": "3.6.6"
  }
 },
 "nbformat": 4,
 "nbformat_minor": 2
}
