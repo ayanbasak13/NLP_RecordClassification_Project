{
 "cells": [
  {
   "cell_type": "code",
   "execution_count": 20,
   "metadata": {},
   "outputs": [],
   "source": [
    "import pandas as pd \n",
    "import fuzzywuzzy\n",
    "from fuzzywuzzy import fuzz\n",
    "import numpy as np\n",
    "import sklearn\n",
    "from sklearn.utils import shuffle"
   ]
  },
  {
   "cell_type": "code",
   "execution_count": 37,
   "metadata": {},
   "outputs": [
    {
     "name": "stdout",
     "output_type": "stream",
     "text": [
      "304\n"
     ]
    }
   ],
   "source": [
    "d1 = pd.read_csv(\"ones_file.csv\")\n",
    "print(len(d1))"
   ]
  },
  {
   "cell_type": "code",
   "execution_count": 38,
   "metadata": {},
   "outputs": [],
   "source": [
    "#d1.drop('Unnamed:0', axis = 1)"
   ]
  },
  {
   "cell_type": "code",
   "execution_count": 39,
   "metadata": {},
   "outputs": [
    {
     "name": "stdout",
     "output_type": "stream",
     "text": [
      "Index(['given_name_A', 'surname_A', 'street_number_A', 'address_1_A',\n",
      "       'address_2_A', 'suburb_A', 'postcode_A', 'state_A', 'date_of_birth_A',\n",
      "       'soc_sec_id_A', 'given_name_B', 'surname_B', 'street_number_B',\n",
      "       'address_1_B', 'address_2_B', 'suburb_B', 'postcode_B', 'state_B',\n",
      "       'date_of_birth_B', 'soc_sec_id_B', 'match'],\n",
      "      dtype='object')\n",
      "21\n"
     ]
    }
   ],
   "source": [
    "print(d1.columns)\n",
    "print(len(d1.columns))"
   ]
  },
  {
   "cell_type": "code",
   "execution_count": 40,
   "metadata": {},
   "outputs": [
    {
     "name": "stdout",
     "output_type": "stream",
     "text": [
      "10019\n"
     ]
    }
   ],
   "source": [
    "d2 = pd.read_csv(\"zeros_file.csv\")\n",
    "print(len(d2))"
   ]
  },
  {
   "cell_type": "code",
   "execution_count": 41,
   "metadata": {},
   "outputs": [
    {
     "name": "stdout",
     "output_type": "stream",
     "text": [
      "Index(['given_name_A', 'surname_A', 'street_number_A', 'address_1_A',\n",
      "       'address_2_A', 'suburb_A', 'postcode_A', 'state_A', 'date_of_birth_A',\n",
      "       'soc_sec_id_A', 'given_name_B', 'surname_B', 'street_number_B',\n",
      "       'address_1_B', 'address_2_B', 'suburb_B', 'postcode_B', 'state_B',\n",
      "       'date_of_birth_B', 'soc_sec_id_B', 'match'],\n",
      "      dtype='object')\n",
      "21\n"
     ]
    }
   ],
   "source": [
    "print(d2.columns)\n",
    "print(len(d2.columns))"
   ]
  },
  {
   "cell_type": "code",
   "execution_count": 42,
   "metadata": {},
   "outputs": [
    {
     "name": "stdout",
     "output_type": "stream",
     "text": [
      "1000\n"
     ]
    }
   ],
   "source": [
    "d3 = pd.read_csv(\"zeros_file_2.csv\")\n",
    "print(len(d3))"
   ]
  },
  {
   "cell_type": "code",
   "execution_count": 43,
   "metadata": {},
   "outputs": [
    {
     "name": "stdout",
     "output_type": "stream",
     "text": [
      "Index(['given_name_A', 'surname_A', 'street_number_A', 'address_1_A',\n",
      "       'address_2_A', 'suburb_A', 'postcode_A', 'state_A', 'date_of_birth_A',\n",
      "       'soc_sec_id_A', 'given_name_B', 'surname_B', 'street_number_B',\n",
      "       'address_1_B', 'address_2_B', 'suburb_B', 'postcode_B', 'state_B',\n",
      "       'date_of_birth_B', 'soc_sec_id_B', 'match'],\n",
      "      dtype='object')\n",
      "21\n"
     ]
    }
   ],
   "source": [
    "print(d3.columns)\n",
    "print(len(d3.columns))"
   ]
  },
  {
   "cell_type": "code",
   "execution_count": 44,
   "metadata": {},
   "outputs": [],
   "source": [
    "d0 = pd.concat([d2,d3])"
   ]
  },
  {
   "cell_type": "code",
   "execution_count": 45,
   "metadata": {},
   "outputs": [],
   "source": [
    "df = shuffle(d0)\n",
    "df = df.iloc[:700,:]"
   ]
  },
  {
   "cell_type": "code",
   "execution_count": 46,
   "metadata": {},
   "outputs": [],
   "source": [
    "dataset = pd.concat([d1,df])\n",
    "dataset = shuffle(dataset)"
   ]
  },
  {
   "cell_type": "code",
   "execution_count": 47,
   "metadata": {},
   "outputs": [],
   "source": [
    "dataset.to_csv(\"final_dataset.csv\" , index = False)"
   ]
  },
  {
   "cell_type": "code",
   "execution_count": 48,
   "metadata": {},
   "outputs": [],
   "source": [
    "dataset = dataset.fillna(\"xxxxxxxx\")"
   ]
  },
  {
   "cell_type": "code",
   "execution_count": 49,
   "metadata": {},
   "outputs": [
    {
     "data": {
      "text/html": [
       "<div>\n",
       "<style scoped>\n",
       "    .dataframe tbody tr th:only-of-type {\n",
       "        vertical-align: middle;\n",
       "    }\n",
       "\n",
       "    .dataframe tbody tr th {\n",
       "        vertical-align: top;\n",
       "    }\n",
       "\n",
       "    .dataframe thead th {\n",
       "        text-align: right;\n",
       "    }\n",
       "</style>\n",
       "<table border=\"1\" class=\"dataframe\">\n",
       "  <thead>\n",
       "    <tr style=\"text-align: right;\">\n",
       "      <th></th>\n",
       "      <th>given_name_A</th>\n",
       "      <th>surname_A</th>\n",
       "      <th>street_number_A</th>\n",
       "      <th>address_1_A</th>\n",
       "      <th>address_2_A</th>\n",
       "      <th>suburb_A</th>\n",
       "      <th>postcode_A</th>\n",
       "      <th>state_A</th>\n",
       "      <th>date_of_birth_A</th>\n",
       "      <th>soc_sec_id_A</th>\n",
       "      <th>...</th>\n",
       "      <th>surname_B</th>\n",
       "      <th>street_number_B</th>\n",
       "      <th>address_1_B</th>\n",
       "      <th>address_2_B</th>\n",
       "      <th>suburb_B</th>\n",
       "      <th>postcode_B</th>\n",
       "      <th>state_B</th>\n",
       "      <th>date_of_birth_B</th>\n",
       "      <th>soc_sec_id_B</th>\n",
       "      <th>match</th>\n",
       "    </tr>\n",
       "  </thead>\n",
       "  <tbody>\n",
       "    <tr>\n",
       "      <th>291</th>\n",
       "      <td>harrison</td>\n",
       "      <td>george</td>\n",
       "      <td>xxxxxxxx</td>\n",
       "      <td>woronora street</td>\n",
       "      <td>south melbourne market</td>\n",
       "      <td>kangaroo flat</td>\n",
       "      <td>2450</td>\n",
       "      <td>nsw</td>\n",
       "      <td>1.93701e+07</td>\n",
       "      <td>3711821</td>\n",
       "      <td>...</td>\n",
       "      <td>george</td>\n",
       "      <td>xxxxxxxx</td>\n",
       "      <td>woronoar street</td>\n",
       "      <td>south melbourne market</td>\n",
       "      <td>kangaroo flat</td>\n",
       "      <td>2450</td>\n",
       "      <td>nsw</td>\n",
       "      <td>1.93701e+07</td>\n",
       "      <td>3711821</td>\n",
       "      <td>1</td>\n",
       "    </tr>\n",
       "    <tr>\n",
       "      <th>124</th>\n",
       "      <td>zachary</td>\n",
       "      <td>white</td>\n",
       "      <td>97</td>\n",
       "      <td>witt place</td>\n",
       "      <td>villa 74</td>\n",
       "      <td>laurieton</td>\n",
       "      <td>2206</td>\n",
       "      <td>vic</td>\n",
       "      <td>xxxxxxxx</td>\n",
       "      <td>8708647</td>\n",
       "      <td>...</td>\n",
       "      <td>webb</td>\n",
       "      <td>97</td>\n",
       "      <td>witt place</td>\n",
       "      <td>xxxxxxxx</td>\n",
       "      <td>laurieton</td>\n",
       "      <td>2206</td>\n",
       "      <td>vic</td>\n",
       "      <td>xxxxxxxx</td>\n",
       "      <td>8708647</td>\n",
       "      <td>1</td>\n",
       "    </tr>\n",
       "    <tr>\n",
       "      <th>8297</th>\n",
       "      <td>jack</td>\n",
       "      <td>steinert</td>\n",
       "      <td>61</td>\n",
       "      <td>french street</td>\n",
       "      <td>meadows estate</td>\n",
       "      <td>adamstown</td>\n",
       "      <td>4350</td>\n",
       "      <td>vic</td>\n",
       "      <td>1.94607e+07</td>\n",
       "      <td>3691990</td>\n",
       "      <td>...</td>\n",
       "      <td>ryan</td>\n",
       "      <td>22</td>\n",
       "      <td>echo place</td>\n",
       "      <td>folsocit</td>\n",
       "      <td>loganohlme</td>\n",
       "      <td>2749</td>\n",
       "      <td>wa</td>\n",
       "      <td>1.94001e+07</td>\n",
       "      <td>1449566</td>\n",
       "      <td>0</td>\n",
       "    </tr>\n",
       "    <tr>\n",
       "      <th>8501</th>\n",
       "      <td>xxxxxxxx</td>\n",
       "      <td>kowald</td>\n",
       "      <td>3</td>\n",
       "      <td>hindmarsh drive</td>\n",
       "      <td>green desert</td>\n",
       "      <td>greenwood</td>\n",
       "      <td>2016</td>\n",
       "      <td>sa</td>\n",
       "      <td>1.94401e+07</td>\n",
       "      <td>8957090</td>\n",
       "      <td>...</td>\n",
       "      <td>mcigrr</td>\n",
       "      <td>1170</td>\n",
       "      <td>graham street</td>\n",
       "      <td>hopedield</td>\n",
       "      <td>yangebup</td>\n",
       "      <td>3414</td>\n",
       "      <td>vic</td>\n",
       "      <td>1.90607e+07</td>\n",
       "      <td>7139205</td>\n",
       "      <td>0</td>\n",
       "    </tr>\n",
       "    <tr>\n",
       "      <th>3661</th>\n",
       "      <td>benjamin</td>\n",
       "      <td>blake</td>\n",
       "      <td>11</td>\n",
       "      <td>tantangara street</td>\n",
       "      <td>summit cottage</td>\n",
       "      <td>oaklands park</td>\n",
       "      <td>2640</td>\n",
       "      <td>wa</td>\n",
       "      <td>1.92709e+07</td>\n",
       "      <td>6285591</td>\n",
       "      <td>...</td>\n",
       "      <td>miles</td>\n",
       "      <td>xxxxxxxx</td>\n",
       "      <td>totterdell street</td>\n",
       "      <td>poplar bend</td>\n",
       "      <td>acton</td>\n",
       "      <td>6317</td>\n",
       "      <td>qld</td>\n",
       "      <td>1.98303e+07</td>\n",
       "      <td>4385595</td>\n",
       "      <td>0</td>\n",
       "    </tr>\n",
       "  </tbody>\n",
       "</table>\n",
       "<p>5 rows × 21 columns</p>\n",
       "</div>"
      ],
      "text/plain": [
       "     given_name_A surname_A street_number_A        address_1_A  \\\n",
       "291      harrison    george        xxxxxxxx    woronora street   \n",
       "124       zachary     white              97         witt place   \n",
       "8297         jack  steinert              61      french street   \n",
       "8501     xxxxxxxx    kowald               3    hindmarsh drive   \n",
       "3661     benjamin     blake              11  tantangara street   \n",
       "\n",
       "                 address_2_A       suburb_A  postcode_A state_A  \\\n",
       "291   south melbourne market  kangaroo flat        2450     nsw   \n",
       "124                 villa 74      laurieton        2206     vic   \n",
       "8297          meadows estate      adamstown        4350     vic   \n",
       "8501            green desert      greenwood        2016      sa   \n",
       "3661          summit cottage  oaklands park        2640      wa   \n",
       "\n",
       "     date_of_birth_A  soc_sec_id_A  ...   surname_B street_number_B  \\\n",
       "291      1.93701e+07       3711821  ...      george        xxxxxxxx   \n",
       "124         xxxxxxxx       8708647  ...        webb              97   \n",
       "8297     1.94607e+07       3691990  ...        ryan              22   \n",
       "8501     1.94401e+07       8957090  ...      mcigrr            1170   \n",
       "3661     1.92709e+07       6285591  ...       miles        xxxxxxxx   \n",
       "\n",
       "            address_1_B             address_2_B       suburb_B postcode_B  \\\n",
       "291     woronoar street  south melbourne market  kangaroo flat       2450   \n",
       "124          witt place                xxxxxxxx      laurieton       2206   \n",
       "8297         echo place                folsocit     loganohlme       2749   \n",
       "8501      graham street               hopedield       yangebup       3414   \n",
       "3661  totterdell street             poplar bend          acton       6317   \n",
       "\n",
       "      state_B date_of_birth_B soc_sec_id_B  match  \n",
       "291       nsw     1.93701e+07      3711821      1  \n",
       "124       vic        xxxxxxxx      8708647      1  \n",
       "8297       wa     1.94001e+07      1449566      0  \n",
       "8501      vic     1.90607e+07      7139205      0  \n",
       "3661      qld     1.98303e+07      4385595      0  \n",
       "\n",
       "[5 rows x 21 columns]"
      ]
     },
     "execution_count": 49,
     "metadata": {},
     "output_type": "execute_result"
    }
   ],
   "source": [
    "dataset.head()"
   ]
  },
  {
   "cell_type": "code",
   "execution_count": 50,
   "metadata": {},
   "outputs": [
    {
     "name": "stdout",
     "output_type": "stream",
     "text": [
      "304\n",
      "700\n"
     ]
    }
   ],
   "source": [
    "print(sum(dataset[\"match\"]==1))\n",
    "print(sum(dataset[\"match\"]==0))"
   ]
  },
  {
   "cell_type": "code",
   "execution_count": null,
   "metadata": {},
   "outputs": [],
   "source": []
  }
 ],
 "metadata": {
  "kernelspec": {
   "display_name": "Python 3",
   "language": "python",
   "name": "python3"
  },
  "language_info": {
   "codemirror_mode": {
    "name": "ipython",
    "version": 3
   },
   "file_extension": ".py",
   "mimetype": "text/x-python",
   "name": "python",
   "nbconvert_exporter": "python",
   "pygments_lexer": "ipython3",
   "version": "3.6.6"
  }
 },
 "nbformat": 4,
 "nbformat_minor": 2
}
