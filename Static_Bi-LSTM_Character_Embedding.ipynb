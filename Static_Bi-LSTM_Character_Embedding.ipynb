{
 "cells": [
  {
   "cell_type": "code",
   "execution_count": 25,
   "metadata": {},
   "outputs": [],
   "source": [
    "import pandas as pd\n",
    "import numpy as np\n",
    "\n",
    "from keras.preprocessing.sequence import pad_sequences\n",
    "from keras.models import Model, Input\n",
    "from keras.layers import LSTM, Embedding, merge, Dense, TimeDistributed, Dropout\n",
    "from keras.layers import Bidirectional, concatenate, SpatialDropout1D\n",
    "import sklearn\n",
    "from sklearn.metrics.pairwise import cosine_similarity\n",
    "from numpy import dot\n",
    "from numpy.linalg import norm\n",
    "from numpy import dot\n",
    "\n",
    "\n",
    "import sklearn\n",
    "from sklearn.metrics.pairwise import cosine_similarity\n",
    "from keras.layers import add\n",
    "\n",
    "data = pd.read_csv(\"ner_dataset.csv\", encoding=\"latin1\")"
   ]
  },
  {
   "cell_type": "code",
   "execution_count": 26,
   "metadata": {},
   "outputs": [
    {
     "data": {
      "text/html": [
       "<div>\n",
       "<style scoped>\n",
       "    .dataframe tbody tr th:only-of-type {\n",
       "        vertical-align: middle;\n",
       "    }\n",
       "\n",
       "    .dataframe tbody tr th {\n",
       "        vertical-align: top;\n",
       "    }\n",
       "\n",
       "    .dataframe thead th {\n",
       "        text-align: right;\n",
       "    }\n",
       "</style>\n",
       "<table border=\"1\" class=\"dataframe\">\n",
       "  <thead>\n",
       "    <tr style=\"text-align: right;\">\n",
       "      <th></th>\n",
       "      <th>Sentence #</th>\n",
       "      <th>Word</th>\n",
       "      <th>POS</th>\n",
       "      <th>Tag</th>\n",
       "    </tr>\n",
       "  </thead>\n",
       "  <tbody>\n",
       "    <tr>\n",
       "      <th>1048570</th>\n",
       "      <td>Sentence: 47959</td>\n",
       "      <td>they</td>\n",
       "      <td>PRP</td>\n",
       "      <td>O</td>\n",
       "    </tr>\n",
       "    <tr>\n",
       "      <th>1048571</th>\n",
       "      <td>Sentence: 47959</td>\n",
       "      <td>responded</td>\n",
       "      <td>VBD</td>\n",
       "      <td>O</td>\n",
       "    </tr>\n",
       "    <tr>\n",
       "      <th>1048572</th>\n",
       "      <td>Sentence: 47959</td>\n",
       "      <td>to</td>\n",
       "      <td>TO</td>\n",
       "      <td>O</td>\n",
       "    </tr>\n",
       "    <tr>\n",
       "      <th>1048573</th>\n",
       "      <td>Sentence: 47959</td>\n",
       "      <td>the</td>\n",
       "      <td>DT</td>\n",
       "      <td>O</td>\n",
       "    </tr>\n",
       "    <tr>\n",
       "      <th>1048574</th>\n",
       "      <td>Sentence: 47959</td>\n",
       "      <td>attack</td>\n",
       "      <td>NN</td>\n",
       "      <td>O</td>\n",
       "    </tr>\n",
       "  </tbody>\n",
       "</table>\n",
       "</div>"
      ],
      "text/plain": [
       "              Sentence #       Word  POS Tag\n",
       "1048570  Sentence: 47959       they  PRP   O\n",
       "1048571  Sentence: 47959  responded  VBD   O\n",
       "1048572  Sentence: 47959         to   TO   O\n",
       "1048573  Sentence: 47959        the   DT   O\n",
       "1048574  Sentence: 47959     attack   NN   O"
      ]
     },
     "execution_count": 26,
     "metadata": {},
     "output_type": "execute_result"
    }
   ],
   "source": [
    "data = data.fillna(method=\"ffill\")\n",
    "data.tail(5)"
   ]
  },
  {
   "cell_type": "code",
   "execution_count": 27,
   "metadata": {},
   "outputs": [
    {
     "name": "stdout",
     "output_type": "stream",
     "text": [
      "['particularly', 'scan', 'minnesota', 'yuanshi', 'mastered', 'smearing', '63.95', 'tkachev', 'roseneft', 'abduction']\n"
     ]
    },
    {
     "data": {
      "text/plain": [
       "35178"
      ]
     },
     "execution_count": 27,
     "metadata": {},
     "output_type": "execute_result"
    }
   ],
   "source": [
    "wordwa = list(set(data[\"Word\"].values))\n",
    "words = []\n",
    "\n",
    "for w in wordwa :\n",
    "    w = str(w)\n",
    "    w = w.lower()\n",
    "    words.append(w)\n",
    "print(words[0:10])\n",
    "n_words = len(words); \n",
    "n_words"
   ]
  },
  {
   "cell_type": "code",
   "execution_count": 28,
   "metadata": {},
   "outputs": [
    {
     "name": "stdout",
     "output_type": "stream",
     "text": [
      "72\n"
     ]
    }
   ],
   "source": [
    "chars = set([w_i for w in words for w_i in w])\n",
    "n_chars = len(chars)\n",
    "print(n_chars)"
   ]
  },
  {
   "cell_type": "code",
   "execution_count": 29,
   "metadata": {},
   "outputs": [],
   "source": [
    "char2idx = {c: i + 2 for i, c in enumerate(chars)}\n",
    "char2idx[\"UNK\"] = 1\n",
    "char2idx[\"PAD\"] = 0"
   ]
  },
  {
   "cell_type": "code",
   "execution_count": 30,
   "metadata": {},
   "outputs": [
    {
     "name": "stdout",
     "output_type": "stream",
     "text": [
      "58\n",
      "9\n"
     ]
    }
   ],
   "source": [
    "print(char2idx['k'])\n",
    "print(char2idx['-'])"
   ]
  },
  {
   "cell_type": "code",
   "execution_count": 31,
   "metadata": {},
   "outputs": [],
   "source": [
    "max_word_length = 25\n",
    "embedded_char_vector_length = 74 # Length of character dictionary\n",
    "char_feature_output = 10"
   ]
  },
  {
   "cell_type": "code",
   "execution_count": 32,
   "metadata": {},
   "outputs": [],
   "source": [
    "X_char = []\n",
    "for word in words :\n",
    "    l1 = []\n",
    "    #if (len(word) > max_word_length) :\n",
    "    #    print(len(word))\n",
    "    for i in range(max_word_length):\n",
    "        try:\n",
    "            l1.append(char2idx.get(word[i]))\n",
    "        except:\n",
    "            l1.append(char2idx.get(\"PAD\"))    \n",
    "    \n",
    "    X_char.append(l1)"
   ]
  },
  {
   "cell_type": "code",
   "execution_count": 33,
   "metadata": {},
   "outputs": [
    {
     "name": "stdout",
     "output_type": "stream",
     "text": [
      "[[59, 38, 65, 31, 17, 61, 20, 63, 38, 65, 63, 5, 0, 0, 0, 0, 0, 0, 0, 0, 0, 0, 0, 0, 0], [13, 61, 38, 18, 0, 0, 0, 0, 0, 0, 0, 0, 0, 0, 0, 0, 0, 0, 0, 0, 0, 0, 0, 0, 0], [6, 17, 18, 18, 28, 13, 26, 31, 38, 0, 0, 0, 0, 0, 0, 0, 0, 0, 0, 0, 0, 0, 0, 0, 0], [5, 20, 38, 18, 13, 15, 17, 0, 0, 0, 0, 0, 0, 0, 0, 0, 0, 0, 0, 0, 0, 0, 0, 0, 0], [6, 38, 13, 31, 28, 65, 28, 34, 0, 0, 0, 0, 0, 0, 0, 0, 0, 0, 0, 0, 0, 0, 0, 0, 0]]\n"
     ]
    }
   ],
   "source": [
    "print(X_char[0:5])"
   ]
  },
  {
   "cell_type": "code",
   "execution_count": 34,
   "metadata": {},
   "outputs": [],
   "source": [
    "char_input = Input(shape=(max_word_length,), dtype='float32', name='char_input')\n",
    "char_input1 = Embedding(embedded_char_vector_length, 16, input_length = max_word_length)(char_input)\n",
    "char_input2 = Dropout(0.2)(char_input1)\n",
    "'''lstm_out_forward = LSTM(char_feature_output, dropout=0.2, recurrent_dropout=0.2)(char_input2)\n",
    "lstm_out_backward = LSTM(char_feature_output, go_backwards=True, dropout=0.2, recurrent_dropout=0.2)(char_input2)'''\n",
    "\n",
    "merged = (Bidirectional(LSTM(units=5, return_sequences=False,trainable = False,\n",
    "                                recurrent_dropout=0.5)))(char_input2)\n",
    "#merged = merge([lstm_out_forward, lstm_out_backward], mode='concat', concat_axis=1)\n",
    "\n",
    "#merged = add([lstm_out_forward, lstm_out_backward])\n",
    "#model = Model(input=[char_input], output=[merged])\n",
    "model = Model(char_input, merged)"
   ]
  },
  {
   "cell_type": "code",
   "execution_count": 35,
   "metadata": {},
   "outputs": [
    {
     "name": "stdout",
     "output_type": "stream",
     "text": [
      "_________________________________________________________________\n",
      "Layer (type)                 Output Shape              Param #   \n",
      "=================================================================\n",
      "char_input (InputLayer)      (None, 25)                0         \n",
      "_________________________________________________________________\n",
      "embedding_2 (Embedding)      (None, 25, 16)            1184      \n",
      "_________________________________________________________________\n",
      "dropout_2 (Dropout)          (None, 25, 16)            0         \n",
      "_________________________________________________________________\n",
      "bidirectional_2 (Bidirection (None, 10)                880       \n",
      "=================================================================\n",
      "Total params: 2,064\n",
      "Trainable params: 2,064\n",
      "Non-trainable params: 0\n",
      "_________________________________________________________________\n"
     ]
    }
   ],
   "source": [
    "model.summary()"
   ]
  },
  {
   "cell_type": "code",
   "execution_count": 40,
   "metadata": {},
   "outputs": [
    {
     "name": "stdout",
     "output_type": "stream",
     "text": [
      "(1, 74, 16)\n",
      "[array([[-0.04473716,  0.0233576 , -0.01393676, ..., -0.01707486,\n",
      "         0.03105256,  0.01986625],\n",
      "       [ 0.04827   ,  0.04199752, -0.0108634 , ...,  0.03234868,\n",
      "         0.01352074, -0.03208601],\n",
      "       [-0.04808122, -0.02279522,  0.00911144, ...,  0.02500156,\n",
      "         0.0486672 ,  0.00822457],\n",
      "       ...,\n",
      "       [-0.01482625, -0.04989877, -0.03241383, ...,  0.00977838,\n",
      "         0.01799469,  0.02689276],\n",
      "       [ 0.02179087,  0.03421267,  0.01698203, ...,  0.01290497,\n",
      "         0.00871219, -0.04210969],\n",
      "       [ 0.02940394, -0.04481616,  0.04241074, ..., -0.03438262,\n",
      "        -0.03603367,  0.01527869]], dtype=float32)]\n"
     ]
    }
   ],
   "source": [
    "p = model.layers[1].get_weights()\n",
    "\n",
    "print(np.array(p).shape)\n",
    "print(p)"
   ]
  },
  {
   "cell_type": "code",
   "execution_count": 42,
   "metadata": {},
   "outputs": [
    {
     "name": "stdout",
     "output_type": "stream",
     "text": [
      "[[59 38 65 31 17 61 20 63 38 65 63  5  0  0  0  0  0  0  0  0  0  0  0  0\n",
      "   0]\n",
      " [13 61 38 18  0  0  0  0  0  0  0  0  0  0  0  0  0  0  0  0  0  0  0  0\n",
      "   0]\n",
      " [ 6 17 18 18 28 13 26 31 38  0  0  0  0  0  0  0  0  0  0  0  0  0  0  0\n",
      "   0]\n",
      " [ 5 20 38 18 13 15 17  0  0  0  0  0  0  0  0  0  0  0  0  0  0  0  0  0\n",
      "   0]\n",
      " [ 6 38 13 31 28 65 28 34  0  0  0  0  0  0  0  0  0  0  0  0  0  0  0  0\n",
      "   0]]\n"
     ]
    }
   ],
   "source": [
    "X1 = np.array(X_char[0:5])\n",
    "print(X1)\n",
    "train_char_vectors = model.predict(X1)\n",
    "        "
   ]
  },
  {
   "cell_type": "code",
   "execution_count": 43,
   "metadata": {},
   "outputs": [
    {
     "name": "stdout",
     "output_type": "stream",
     "text": [
      "(5, 10)\n",
      "\n",
      "\n",
      "[[-0.0013796  -0.05276449  0.00605738 -0.01108203 -0.033244   -0.00124549\n",
      "   0.00733913 -0.00580821  0.00102096  0.00264938]\n",
      " [-0.00027438 -0.05564112  0.00448809 -0.01132372 -0.03460157  0.01024884\n",
      "   0.0002259   0.0138014   0.00765138  0.01188171]\n",
      " [-0.00094933 -0.0539206   0.00543669 -0.01118491 -0.03378528 -0.00419328\n",
      "   0.00699057  0.00928531  0.00726668  0.0041477 ]\n",
      " [-0.00012118 -0.05572236  0.00451243 -0.01142558 -0.03442071  0.0116543\n",
      "  -0.00252125 -0.00296156 -0.00438434  0.00400033]\n",
      " [-0.00065556 -0.05451943  0.00513354 -0.01129829 -0.03394692  0.00228444\n",
      "   0.01018188  0.0002169   0.0099055  -0.00106856]]\n"
     ]
    }
   ],
   "source": [
    "print(train_char_vectors.shape)\n",
    "print(\"\\n\")\n",
    "print(train_char_vectors)"
   ]
  },
  {
   "cell_type": "code",
   "execution_count": 44,
   "metadata": {},
   "outputs": [],
   "source": [
    "def pred_new_num_enc(s) :\n",
    "    \n",
    "    pred = s\n",
    "\n",
    "    l = []\n",
    "    ip = []\n",
    "    k=0\n",
    "\n",
    "    for i in range(len(pred)):\n",
    "        l.append(char2idx.get(pred[i]))\n",
    "    #print(l)\n",
    "    #print(char2idx.get(\"PAD\"))        \n",
    "\n",
    "\n",
    "    length = len(l)\n",
    "    #print(length)\n",
    "\n",
    "    if length < max_word_length :\n",
    "        k = max_word_length - length\n",
    "        print(k)\n",
    "\n",
    "        for i in range (0,k) :\n",
    "            l.append(char2idx.get(\"PAD\"))    \n",
    "\n",
    "    else :\n",
    "        l = l[:max_word_length]\n",
    "    #ip.append(l)\n",
    "\n",
    "    l = np.array([l])\n",
    "    #print(l)\n",
    "    \n",
    "    return l"
   ]
  },
  {
   "cell_type": "code",
   "execution_count": 45,
   "metadata": {},
   "outputs": [],
   "source": [
    "def pred_new_vec() :\n",
    "    train_char_vectors = model.predict(l)\n",
    "\n",
    "    #print(train_char_vectors)\n",
    "    \n",
    "    return train_char_vectors"
   ]
  },
  {
   "cell_type": "code",
   "execution_count": 46,
   "metadata": {},
   "outputs": [
    {
     "name": "stdout",
     "output_type": "stream",
     "text": [
      "21\n",
      "22\n",
      "[[0.83490321]]\n"
     ]
    }
   ],
   "source": [
    "a1 = pred_new_num_enc(\"name\")\n",
    "a2 = pred_new_num_enc(\"nam\")\n",
    "\n",
    "print(cosine_similarity(a1 , a2))"
   ]
  },
  {
   "cell_type": "code",
   "execution_count": 47,
   "metadata": {},
   "outputs": [
    {
     "name": "stdout",
     "output_type": "stream",
     "text": [
      "21\n",
      "20\n",
      "[[0.78228803]]\n"
     ]
    }
   ],
   "source": [
    "a3 = pred_new_num_enc(\"name\")\n",
    "a4 = pred_new_num_enc(\"nam-e\")\n",
    "\n",
    "print(cosine_similarity(a3 , a4))"
   ]
  },
  {
   "cell_type": "code",
   "execution_count": 48,
   "metadata": {},
   "outputs": [
    {
     "name": "stdout",
     "output_type": "stream",
     "text": [
      "18\n",
      "21\n",
      "[[0.93634605]]\n"
     ]
    }
   ],
   "source": [
    "a5 = pred_new_num_enc(\"address\")\n",
    "a6 = pred_new_num_enc(\"addr\")\n",
    "\n",
    "print(cosine_similarity(a5 , a6))"
   ]
  },
  {
   "cell_type": "code",
   "execution_count": 49,
   "metadata": {},
   "outputs": [
    {
     "name": "stdout",
     "output_type": "stream",
     "text": [
      "18\n",
      "20\n",
      "[[0.83118823]]\n"
     ]
    }
   ],
   "source": [
    "a7 = pred_new_num_enc(\"address\")\n",
    "a8 = pred_new_num_enc(\"adres\")\n",
    "\n",
    "print(cosine_similarity(a7 , a8))"
   ]
  },
  {
   "cell_type": "code",
   "execution_count": 50,
   "metadata": {},
   "outputs": [
    {
     "name": "stdout",
     "output_type": "stream",
     "text": [
      "18\n",
      "17\n",
      "[[0.81579926]]\n"
     ]
    }
   ],
   "source": [
    "a9 = pred_new_num_enc(\"contact\")\n",
    "a10 = pred_new_num_enc(\"phone-no\")\n",
    "\n",
    "print(cosine_similarity(a9 , a10))"
   ]
  },
  {
   "cell_type": "code",
   "execution_count": null,
   "metadata": {},
   "outputs": [],
   "source": []
  }
 ],
 "metadata": {
  "kernelspec": {
   "display_name": "Python 3",
   "language": "python",
   "name": "python3"
  },
  "language_info": {
   "codemirror_mode": {
    "name": "ipython",
    "version": 3
   },
   "file_extension": ".py",
   "mimetype": "text/x-python",
   "name": "python",
   "nbconvert_exporter": "python",
   "pygments_lexer": "ipython3",
   "version": "3.6.6"
  }
 },
 "nbformat": 4,
 "nbformat_minor": 2
}
