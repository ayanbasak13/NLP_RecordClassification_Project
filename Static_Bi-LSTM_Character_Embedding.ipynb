{
 "cells": [
  {
   "cell_type": "code",
   "execution_count": 1,
   "metadata": {},
   "outputs": [
    {
     "name": "stderr",
     "output_type": "stream",
     "text": [
      "Using TensorFlow backend.\n"
     ]
    }
   ],
   "source": [
    "import pandas as pd\n",
    "import numpy as np\n",
    "\n",
    "from keras.preprocessing.sequence import pad_sequences\n",
    "from keras.models import Model, Input\n",
    "from keras.layers import LSTM, Embedding, merge, Dense, TimeDistributed, Dropout\n",
    "from keras.layers import Bidirectional, concatenate, SpatialDropout1D\n",
    "import sklearn\n",
    "from sklearn.metrics.pairwise import cosine_similarity\n",
    "from numpy import dot\n",
    "from numpy.linalg import norm\n",
    "from numpy import dot\n",
    "\n",
    "\n",
    "import sklearn\n",
    "from sklearn.metrics.pairwise import cosine_similarity\n",
    "from keras.layers import add\n",
    "\n",
    "data = pd.read_csv(\"ner_dataset.csv\", encoding=\"latin1\")"
   ]
  },
  {
   "cell_type": "code",
   "execution_count": 2,
   "metadata": {},
   "outputs": [
    {
     "data": {
      "text/html": [
       "<div>\n",
       "<style scoped>\n",
       "    .dataframe tbody tr th:only-of-type {\n",
       "        vertical-align: middle;\n",
       "    }\n",
       "\n",
       "    .dataframe tbody tr th {\n",
       "        vertical-align: top;\n",
       "    }\n",
       "\n",
       "    .dataframe thead th {\n",
       "        text-align: right;\n",
       "    }\n",
       "</style>\n",
       "<table border=\"1\" class=\"dataframe\">\n",
       "  <thead>\n",
       "    <tr style=\"text-align: right;\">\n",
       "      <th></th>\n",
       "      <th>Sentence #</th>\n",
       "      <th>Word</th>\n",
       "      <th>POS</th>\n",
       "      <th>Tag</th>\n",
       "    </tr>\n",
       "  </thead>\n",
       "  <tbody>\n",
       "    <tr>\n",
       "      <th>1048570</th>\n",
       "      <td>Sentence: 47959</td>\n",
       "      <td>they</td>\n",
       "      <td>PRP</td>\n",
       "      <td>O</td>\n",
       "    </tr>\n",
       "    <tr>\n",
       "      <th>1048571</th>\n",
       "      <td>Sentence: 47959</td>\n",
       "      <td>responded</td>\n",
       "      <td>VBD</td>\n",
       "      <td>O</td>\n",
       "    </tr>\n",
       "    <tr>\n",
       "      <th>1048572</th>\n",
       "      <td>Sentence: 47959</td>\n",
       "      <td>to</td>\n",
       "      <td>TO</td>\n",
       "      <td>O</td>\n",
       "    </tr>\n",
       "    <tr>\n",
       "      <th>1048573</th>\n",
       "      <td>Sentence: 47959</td>\n",
       "      <td>the</td>\n",
       "      <td>DT</td>\n",
       "      <td>O</td>\n",
       "    </tr>\n",
       "    <tr>\n",
       "      <th>1048574</th>\n",
       "      <td>Sentence: 47959</td>\n",
       "      <td>attack</td>\n",
       "      <td>NN</td>\n",
       "      <td>O</td>\n",
       "    </tr>\n",
       "  </tbody>\n",
       "</table>\n",
       "</div>"
      ],
      "text/plain": [
       "              Sentence #       Word  POS Tag\n",
       "1048570  Sentence: 47959       they  PRP   O\n",
       "1048571  Sentence: 47959  responded  VBD   O\n",
       "1048572  Sentence: 47959         to   TO   O\n",
       "1048573  Sentence: 47959        the   DT   O\n",
       "1048574  Sentence: 47959     attack   NN   O"
      ]
     },
     "execution_count": 2,
     "metadata": {},
     "output_type": "execute_result"
    }
   ],
   "source": [
    "data = data.fillna(method=\"ffill\")\n",
    "data.tail(5)"
   ]
  },
  {
   "cell_type": "code",
   "execution_count": 3,
   "metadata": {},
   "outputs": [
    {
     "name": "stdout",
     "output_type": "stream",
     "text": [
      "['greenhouse', 'airplane', 'leg', 'europeanunion-russian', 'stampede', 'sherwan', 'instance', 'socially-conservative', 'briefly', 'operates']\n"
     ]
    },
    {
     "data": {
      "text/plain": [
       "35178"
      ]
     },
     "execution_count": 3,
     "metadata": {},
     "output_type": "execute_result"
    }
   ],
   "source": [
    "wordwa = list(set(data[\"Word\"].values))\n",
    "words = []\n",
    "\n",
    "for w in wordwa :\n",
    "    w = str(w)\n",
    "    w = w.lower()\n",
    "    words.append(w)\n",
    "print(words[0:10])\n",
    "n_words = len(words); \n",
    "n_words"
   ]
  },
  {
   "cell_type": "code",
   "execution_count": 4,
   "metadata": {},
   "outputs": [
    {
     "name": "stdout",
     "output_type": "stream",
     "text": [
      "72\n"
     ]
    }
   ],
   "source": [
    "chars = set([w_i for w in words for w_i in w])\n",
    "n_chars = len(chars)\n",
    "print(n_chars)"
   ]
  },
  {
   "cell_type": "code",
   "execution_count": 5,
   "metadata": {},
   "outputs": [],
   "source": [
    "char2idx = {c: i + 2 for i, c in enumerate(chars)}\n",
    "char2idx[\"UNK\"] = 1\n",
    "char2idx[\"PAD\"] = 0"
   ]
  },
  {
   "cell_type": "code",
   "execution_count": 6,
   "metadata": {},
   "outputs": [
    {
     "name": "stdout",
     "output_type": "stream",
     "text": [
      "39\n",
      "28\n"
     ]
    }
   ],
   "source": [
    "print(char2idx['k'])\n",
    "print(char2idx['-'])"
   ]
  },
  {
   "cell_type": "code",
   "execution_count": 7,
   "metadata": {},
   "outputs": [],
   "source": [
    "max_word_length = 25\n",
    "embedded_char_vector_length = 74 # Length of character dictionary\n",
    "char_feature_output = 10"
   ]
  },
  {
   "cell_type": "code",
   "execution_count": 8,
   "metadata": {},
   "outputs": [],
   "source": [
    "X_char = []\n",
    "for word in words :\n",
    "    l1 = []\n",
    "    #if (len(word) > max_word_length) :\n",
    "    #    print(len(word))\n",
    "    for i in range(max_word_length):\n",
    "        try:\n",
    "            l1.append(char2idx.get(word[i]))\n",
    "        except:\n",
    "            l1.append(char2idx.get(\"PAD\"))    \n",
    "    \n",
    "    X_char.append(l1)"
   ]
  },
  {
   "cell_type": "code",
   "execution_count": 9,
   "metadata": {},
   "outputs": [
    {
     "name": "stdout",
     "output_type": "stream",
     "text": [
      "[[5, 48, 18, 18, 73, 13, 4, 16, 41, 18, 0, 0, 0, 0, 0, 0, 0, 0, 0, 0, 0, 0, 0, 0, 0], [43, 29, 48, 49, 11, 43, 73, 18, 0, 0, 0, 0, 0, 0, 0, 0, 0, 0, 0, 0, 0, 0, 0, 0, 0], [11, 18, 5, 0, 0, 0, 0, 0, 0, 0, 0, 0, 0, 0, 0, 0, 0, 0, 0, 0, 0, 0, 0, 0, 0], [18, 16, 48, 4, 49, 18, 43, 73, 16, 73, 29, 4, 73, 28, 48, 16, 41, 41, 29, 43, 73, 0, 0, 0, 0], [41, 19, 43, 54, 49, 18, 38, 18, 0, 0, 0, 0, 0, 0, 0, 0, 0, 0, 0, 0, 0, 0, 0, 0, 0], [41, 13, 18, 48, 47, 43, 73, 0, 0, 0, 0, 0, 0, 0, 0, 0, 0, 0, 0, 0, 0, 0, 0, 0, 0], [29, 73, 41, 19, 43, 73, 59, 18, 0, 0, 0, 0, 0, 0, 0, 0, 0, 0, 0, 0, 0, 0, 0, 0, 0], [41, 4, 59, 29, 43, 11, 11, 25, 28, 59, 4, 73, 41, 18, 48, 69, 43, 19, 29, 69, 18, 0, 0, 0, 0], [12, 48, 29, 18, 14, 11, 25, 0, 0, 0, 0, 0, 0, 0, 0, 0, 0, 0, 0, 0, 0, 0, 0, 0, 0], [4, 49, 18, 48, 43, 19, 18, 41, 0, 0, 0, 0, 0, 0, 0, 0, 0, 0, 0, 0, 0, 0, 0, 0, 0]]\n"
     ]
    }
   ],
   "source": [
    "print(X_char[0:10])"
   ]
  },
  {
   "cell_type": "code",
   "execution_count": 10,
   "metadata": {},
   "outputs": [],
   "source": [
    "char_input = Input(shape=(max_word_length,), dtype='float32', name='char_input')\n",
    "char_input1 = Embedding(74, embedded_char_vector_length, input_length=max_word_length)(char_input)\n",
    "char_input2 = Dropout(0.2)(char_input1)\n",
    "'''lstm_out_forward = LSTM(char_feature_output, dropout=0.2, recurrent_dropout=0.2)(char_input2)\n",
    "lstm_out_backward = LSTM(char_feature_output, go_backwards=True, dropout=0.2, recurrent_dropout=0.2)(char_input2)'''\n",
    "\n",
    "merged = (Bidirectional(LSTM(units=5, return_sequences=False,trainable = False,\n",
    "                                recurrent_dropout=0.5)))(char_input2)\n",
    "#merged = merge([lstm_out_forward, lstm_out_backward], mode='concat', concat_axis=1)\n",
    "\n",
    "#merged = add([lstm_out_forward, lstm_out_backward])\n",
    "#model = Model(input=[char_input], output=[merged])\n",
    "model = Model(char_input, merged)"
   ]
  },
  {
   "cell_type": "code",
   "execution_count": 11,
   "metadata": {},
   "outputs": [
    {
     "data": {
      "text/plain": [
       "'X1 = np.array([[1,0,0],[0,0,1],[0,1,0],[0,0,0],[0,0,0],[0,0,0]])\\ntrain_char_vectors = model.predict(X1)\\n\\nprint(train_char_vectors)'"
      ]
     },
     "execution_count": 11,
     "metadata": {},
     "output_type": "execute_result"
    }
   ],
   "source": [
    "'''X1 = np.array([[1,0,0],[0,0,1],[0,1,0],[0,0,0],[0,0,0],[0,0,0]])\n",
    "train_char_vectors = model.predict(X1)\n",
    "\n",
    "print(train_char_vectors)'''"
   ]
  },
  {
   "cell_type": "code",
   "execution_count": 12,
   "metadata": {},
   "outputs": [
    {
     "name": "stdout",
     "output_type": "stream",
     "text": [
      "[[ 5 48 18 ...  0  0  0]\n",
      " [43 29 48 ...  0  0  0]\n",
      " [11 18  5 ...  0  0  0]\n",
      " ...\n",
      " [12 11  4 ...  0  0  0]\n",
      " [11  4 47 ...  0  0  0]\n",
      " [59 48 18 ...  0  0  0]]\n"
     ]
    }
   ],
   "source": [
    "X1 = np.array(X_char)\n",
    "print(X1)\n",
    "train_char_vectors = model.predict(X1)\n",
    "        "
   ]
  },
  {
   "cell_type": "code",
   "execution_count": 13,
   "metadata": {},
   "outputs": [
    {
     "name": "stdout",
     "output_type": "stream",
     "text": [
      "(35178, 10)\n",
      "\n",
      "\n",
      "[[-0.0215998  -0.00438682 -0.00979589 ...  0.01112138  0.00081465\n",
      "   0.02142598]\n",
      " [-0.0217279  -0.00438642 -0.0097164  ... -0.01236339 -0.02069264\n",
      "   0.00707564]\n",
      " [-0.021729   -0.00440656 -0.0097755  ... -0.0075145  -0.00365245\n",
      "  -0.02342905]\n",
      " ...\n",
      " [-0.02171018 -0.00439098 -0.00973171 ... -0.01083119 -0.00918074\n",
      "   0.01261888]\n",
      " [-0.02171948 -0.00440942 -0.00978664 ... -0.02722013 -0.00492839\n",
      "  -0.0201044 ]\n",
      " [-0.0218172  -0.00427514 -0.00926688 ...  0.00116493 -0.00901464\n",
      "   0.03098662]]\n"
     ]
    }
   ],
   "source": [
    "print(train_char_vectors.shape)\n",
    "print(\"\\n\")\n",
    "print(train_char_vectors)"
   ]
  },
  {
   "cell_type": "code",
   "execution_count": 14,
   "metadata": {},
   "outputs": [],
   "source": [
    "def pred_new_num_enc(s) :\n",
    "    \n",
    "    pred = s\n",
    "\n",
    "    l = []\n",
    "    ip = []\n",
    "    k=0\n",
    "\n",
    "    for i in range(len(pred)):\n",
    "        l.append(char2idx.get(pred[i]))\n",
    "    #print(l)\n",
    "    #print(char2idx.get(\"PAD\"))        \n",
    "\n",
    "\n",
    "    length = len(l)\n",
    "    #print(length)\n",
    "\n",
    "    if length < max_word_length :\n",
    "        k = max_word_length - length\n",
    "        print(k)\n",
    "\n",
    "        for i in range (0,k) :\n",
    "            l.append(char2idx.get(\"PAD\"))    \n",
    "\n",
    "    else :\n",
    "        l = l[:max_word_length]\n",
    "    #ip.append(l)\n",
    "\n",
    "    l = np.array([l])\n",
    "    #print(l)\n",
    "    \n",
    "    return l"
   ]
  },
  {
   "cell_type": "code",
   "execution_count": 15,
   "metadata": {},
   "outputs": [],
   "source": [
    "def pred_new_vec() :\n",
    "    train_char_vectors = model.predict(l)\n",
    "\n",
    "    #print(train_char_vectors)\n",
    "    \n",
    "    return train_char_vectors"
   ]
  },
  {
   "cell_type": "code",
   "execution_count": 16,
   "metadata": {},
   "outputs": [
    {
     "name": "stdout",
     "output_type": "stream",
     "text": [
      "21\n",
      "22\n",
      "[[0.98432717]]\n"
     ]
    }
   ],
   "source": [
    "a1 = pred_new_num_enc(\"name\")\n",
    "a2 = pred_new_num_enc(\"nam\")\n",
    "\n",
    "print(cosine_similarity(a1 , a2))"
   ]
  },
  {
   "cell_type": "code",
   "execution_count": 17,
   "metadata": {},
   "outputs": [
    {
     "name": "stdout",
     "output_type": "stream",
     "text": [
      "21\n",
      "20\n",
      "[[0.98103376]]\n"
     ]
    }
   ],
   "source": [
    "a3 = pred_new_num_enc(\"name\")\n",
    "a4 = pred_new_num_enc(\"nam-e\")\n",
    "\n",
    "print(cosine_similarity(a3 , a4))"
   ]
  },
  {
   "cell_type": "code",
   "execution_count": 18,
   "metadata": {},
   "outputs": [
    {
     "name": "stdout",
     "output_type": "stream",
     "text": [
      "18\n",
      "21\n",
      "[[0.8101735]]\n"
     ]
    }
   ],
   "source": [
    "a5 = pred_new_num_enc(\"address\")\n",
    "a6 = pred_new_num_enc(\"addr\")\n",
    "\n",
    "print(cosine_similarity(a5 , a6))"
   ]
  },
  {
   "cell_type": "code",
   "execution_count": 19,
   "metadata": {},
   "outputs": [
    {
     "name": "stdout",
     "output_type": "stream",
     "text": [
      "18\n",
      "20\n",
      "[[0.74404905]]\n"
     ]
    }
   ],
   "source": [
    "a7 = pred_new_num_enc(\"address\")\n",
    "a8 = pred_new_num_enc(\"adres\")\n",
    "\n",
    "print(cosine_similarity(a7 , a8))"
   ]
  },
  {
   "cell_type": "code",
   "execution_count": 21,
   "metadata": {},
   "outputs": [
    {
     "name": "stdout",
     "output_type": "stream",
     "text": [
      "18\n",
      "17\n",
      "[[0.57691874]]\n"
     ]
    }
   ],
   "source": [
    "a9 = pred_new_num_enc(\"contact\")\n",
    "a10 = pred_new_num_enc(\"phone-no\")\n",
    "\n",
    "print(cosine_similarity(a9 , a10))"
   ]
  },
  {
   "cell_type": "code",
   "execution_count": null,
   "metadata": {},
   "outputs": [],
   "source": []
  }
 ],
 "metadata": {
  "kernelspec": {
   "display_name": "Python 3",
   "language": "python",
   "name": "python3"
  },
  "language_info": {
   "codemirror_mode": {
    "name": "ipython",
    "version": 3
   },
   "file_extension": ".py",
   "mimetype": "text/x-python",
   "name": "python",
   "nbconvert_exporter": "python",
   "pygments_lexer": "ipython3",
   "version": "3.6.6"
  }
 },
 "nbformat": 4,
 "nbformat_minor": 2
}
