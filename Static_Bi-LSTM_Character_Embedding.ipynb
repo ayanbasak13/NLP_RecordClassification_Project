{
 "cells": [
  {
   "cell_type": "code",
   "execution_count": 1,
   "metadata": {},
   "outputs": [
    {
     "name": "stderr",
     "output_type": "stream",
     "text": [
      "Using TensorFlow backend.\n"
     ]
    }
   ],
   "source": [
    "import pandas as pd\n",
    "import numpy as np\n",
    "\n",
    "from keras.preprocessing.sequence import pad_sequences\n",
    "from keras.models import Model, Input\n",
    "from keras.layers import LSTM, Embedding, merge, Dense, TimeDistributed, Dropout\n",
    "from keras.layers import Bidirectional, concatenate, SpatialDropout1D\n",
    "import sklearn\n",
    "from sklearn.metrics.pairwise import cosine_similarity\n",
    "from numpy import dot\n",
    "from numpy.linalg import norm\n",
    "from numpy import dot\n",
    "\n",
    "\n",
    "import sklearn\n",
    "from sklearn.metrics.pairwise import cosine_similarity\n",
    "from keras.layers import add\n",
    "\n",
    "data = pd.read_csv(\"ner_dataset.csv\", encoding=\"latin1\")"
   ]
  },
  {
   "cell_type": "code",
   "execution_count": 2,
   "metadata": {},
   "outputs": [
    {
     "data": {
      "text/html": [
       "<div>\n",
       "<style scoped>\n",
       "    .dataframe tbody tr th:only-of-type {\n",
       "        vertical-align: middle;\n",
       "    }\n",
       "\n",
       "    .dataframe tbody tr th {\n",
       "        vertical-align: top;\n",
       "    }\n",
       "\n",
       "    .dataframe thead th {\n",
       "        text-align: right;\n",
       "    }\n",
       "</style>\n",
       "<table border=\"1\" class=\"dataframe\">\n",
       "  <thead>\n",
       "    <tr style=\"text-align: right;\">\n",
       "      <th></th>\n",
       "      <th>Sentence #</th>\n",
       "      <th>Word</th>\n",
       "      <th>POS</th>\n",
       "      <th>Tag</th>\n",
       "    </tr>\n",
       "  </thead>\n",
       "  <tbody>\n",
       "    <tr>\n",
       "      <th>1048570</th>\n",
       "      <td>Sentence: 47959</td>\n",
       "      <td>they</td>\n",
       "      <td>PRP</td>\n",
       "      <td>O</td>\n",
       "    </tr>\n",
       "    <tr>\n",
       "      <th>1048571</th>\n",
       "      <td>Sentence: 47959</td>\n",
       "      <td>responded</td>\n",
       "      <td>VBD</td>\n",
       "      <td>O</td>\n",
       "    </tr>\n",
       "    <tr>\n",
       "      <th>1048572</th>\n",
       "      <td>Sentence: 47959</td>\n",
       "      <td>to</td>\n",
       "      <td>TO</td>\n",
       "      <td>O</td>\n",
       "    </tr>\n",
       "    <tr>\n",
       "      <th>1048573</th>\n",
       "      <td>Sentence: 47959</td>\n",
       "      <td>the</td>\n",
       "      <td>DT</td>\n",
       "      <td>O</td>\n",
       "    </tr>\n",
       "    <tr>\n",
       "      <th>1048574</th>\n",
       "      <td>Sentence: 47959</td>\n",
       "      <td>attack</td>\n",
       "      <td>NN</td>\n",
       "      <td>O</td>\n",
       "    </tr>\n",
       "  </tbody>\n",
       "</table>\n",
       "</div>"
      ],
      "text/plain": [
       "              Sentence #       Word  POS Tag\n",
       "1048570  Sentence: 47959       they  PRP   O\n",
       "1048571  Sentence: 47959  responded  VBD   O\n",
       "1048572  Sentence: 47959         to   TO   O\n",
       "1048573  Sentence: 47959        the   DT   O\n",
       "1048574  Sentence: 47959     attack   NN   O"
      ]
     },
     "execution_count": 2,
     "metadata": {},
     "output_type": "execute_result"
    }
   ],
   "source": [
    "data = data.fillna(method=\"ffill\")\n",
    "data.tail(5)"
   ]
  },
  {
   "cell_type": "code",
   "execution_count": 3,
   "metadata": {},
   "outputs": [
    {
     "name": "stdout",
     "output_type": "stream",
     "text": [
      "['oman', 'smalls', 'aiko', 'zazai', 'singly', 'proclamation', 'ceausescu', 'arauca', 'goss', 'cabinet']\n"
     ]
    },
    {
     "data": {
      "text/plain": [
       "35178"
      ]
     },
     "execution_count": 3,
     "metadata": {},
     "output_type": "execute_result"
    }
   ],
   "source": [
    "wordwa = list(set(data[\"Word\"].values))\n",
    "words = []\n",
    "\n",
    "for w in wordwa :\n",
    "    w = str(w)\n",
    "    w = w.lower()\n",
    "    words.append(w)\n",
    "print(words[0:10])\n",
    "n_words = len(words); \n",
    "n_words"
   ]
  },
  {
   "cell_type": "code",
   "execution_count": 4,
   "metadata": {},
   "outputs": [
    {
     "name": "stdout",
     "output_type": "stream",
     "text": [
      "72\n"
     ]
    }
   ],
   "source": [
    "chars = set([w_i for w in words for w_i in w])\n",
    "n_chars = len(chars)\n",
    "print(n_chars)"
   ]
  },
  {
   "cell_type": "code",
   "execution_count": 5,
   "metadata": {},
   "outputs": [],
   "source": [
    "char2idx = {c: i + 2 for i, c in enumerate(chars)}\n",
    "char2idx[\"UNK\"] = 1\n",
    "char2idx[\"PAD\"] = 0"
   ]
  },
  {
   "cell_type": "code",
   "execution_count": 6,
   "metadata": {},
   "outputs": [
    {
     "name": "stdout",
     "output_type": "stream",
     "text": [
      "46\n",
      "58\n"
     ]
    }
   ],
   "source": [
    "print(char2idx['k'])\n",
    "print(char2idx['-'])"
   ]
  },
  {
   "cell_type": "code",
   "execution_count": 7,
   "metadata": {},
   "outputs": [],
   "source": [
    "max_word_length = 25\n",
    "embedded_char_vector_length = 74 # Length of character dictionary\n",
    "char_feature_output = 10"
   ]
  },
  {
   "cell_type": "code",
   "execution_count": 8,
   "metadata": {},
   "outputs": [],
   "source": [
    "X_char = []\n",
    "for word in words :\n",
    "    l1 = []\n",
    "    #if (len(word) > max_word_length) :\n",
    "    #    print(len(word))\n",
    "    for i in range(max_word_length):\n",
    "        try:\n",
    "            l1.append(char2idx.get(word[i]))\n",
    "        except:\n",
    "            l1.append(char2idx.get(\"PAD\"))    \n",
    "    \n",
    "    X_char.append(l1)"
   ]
  },
  {
   "cell_type": "code",
   "execution_count": 9,
   "metadata": {},
   "outputs": [
    {
     "name": "stdout",
     "output_type": "stream",
     "text": [
      "[[63, 9, 3, 71, 0, 0, 0, 0, 0, 0, 0, 0, 0, 0, 0, 0, 0, 0, 0, 0, 0, 0, 0, 0, 0], [11, 9, 3, 59, 59, 11, 0, 0, 0, 0, 0, 0, 0, 0, 0, 0, 0, 0, 0, 0, 0, 0, 0, 0, 0], [3, 24, 46, 63, 0, 0, 0, 0, 0, 0, 0, 0, 0, 0, 0, 0, 0, 0, 0, 0, 0, 0, 0, 0, 0], [35, 3, 35, 3, 24, 0, 0, 0, 0, 0, 0, 0, 0, 0, 0, 0, 0, 0, 0, 0, 0, 0, 0, 0, 0], [11, 24, 71, 39, 59, 31, 0, 0, 0, 0, 0, 0, 0, 0, 0, 0, 0, 0, 0, 0, 0, 0, 0, 0, 0], [47, 43, 63, 25, 59, 3, 9, 3, 8, 24, 63, 71, 0, 0, 0, 0, 0, 0, 0, 0, 0, 0, 0, 0, 0], [25, 64, 3, 57, 11, 64, 11, 25, 57, 0, 0, 0, 0, 0, 0, 0, 0, 0, 0, 0, 0, 0, 0, 0, 0], [3, 43, 3, 57, 25, 3, 0, 0, 0, 0, 0, 0, 0, 0, 0, 0, 0, 0, 0, 0, 0, 0, 0, 0, 0], [39, 63, 11, 11, 0, 0, 0, 0, 0, 0, 0, 0, 0, 0, 0, 0, 0, 0, 0, 0, 0, 0, 0, 0, 0], [25, 3, 54, 24, 71, 64, 8, 0, 0, 0, 0, 0, 0, 0, 0, 0, 0, 0, 0, 0, 0, 0, 0, 0, 0]]\n"
     ]
    }
   ],
   "source": [
    "print(X_char[0:10])"
   ]
  },
  {
   "cell_type": "code",
   "execution_count": 10,
   "metadata": {},
   "outputs": [],
   "source": [
    "char_input = Input(shape=(max_word_length,), dtype='float32', name='char_input')\n",
    "char_input1 = Embedding(74, embedded_char_vector_length, input_length=max_word_length)(char_input)\n",
    "char_input2 = Dropout(0.2)(char_input1)\n",
    "'''lstm_out_forward = LSTM(char_feature_output, dropout=0.2, recurrent_dropout=0.2)(char_input2)\n",
    "lstm_out_backward = LSTM(char_feature_output, go_backwards=True, dropout=0.2, recurrent_dropout=0.2)(char_input2)'''\n",
    "\n",
    "merged = (Bidirectional(LSTM(units=5, return_sequences=False,trainable = False,\n",
    "                                recurrent_dropout=0.5)))(char_input2)\n",
    "#merged = merge([lstm_out_forward, lstm_out_backward], mode='concat', concat_axis=1)\n",
    "\n",
    "#merged = add([lstm_out_forward, lstm_out_backward])\n",
    "#model = Model(input=[char_input], output=[merged])\n",
    "model = Model(char_input, merged)"
   ]
  },
  {
   "cell_type": "code",
   "execution_count": 11,
   "metadata": {},
   "outputs": [
    {
     "data": {
      "text/plain": [
       "'X1 = np.array([[1,0,0],[0,0,1],[0,1,0],[0,0,0],[0,0,0],[0,0,0]])\\ntrain_char_vectors = model.predict(X1)\\n\\nprint(train_char_vectors)'"
      ]
     },
     "execution_count": 11,
     "metadata": {},
     "output_type": "execute_result"
    }
   ],
   "source": [
    "'''X1 = np.array([[1,0,0],[0,0,1],[0,1,0],[0,0,0],[0,0,0],[0,0,0]])\n",
    "train_char_vectors = model.predict(X1)\n",
    "\n",
    "print(train_char_vectors)'''"
   ]
  },
  {
   "cell_type": "code",
   "execution_count": 12,
   "metadata": {},
   "outputs": [
    {
     "name": "stdout",
     "output_type": "stream",
     "text": [
      "[[63  9  3 ...  0  0  0]\n",
      " [11  9  3 ...  0  0  0]\n",
      " [ 3 24 46 ...  0  0  0]\n",
      " ...\n",
      " [24 71 25 ...  0  0  0]\n",
      " [71 63 63 ...  0  0  0]\n",
      " [30 64 71 ...  0  0  0]]\n"
     ]
    }
   ],
   "source": [
    "X1 = np.array(X_char)\n",
    "print(X1)\n",
    "train_char_vectors = model.predict(X1)\n",
    "        "
   ]
  },
  {
   "cell_type": "code",
   "execution_count": 13,
   "metadata": {},
   "outputs": [
    {
     "name": "stdout",
     "output_type": "stream",
     "text": [
      "(35178, 10)\n",
      "\n",
      "\n",
      "[[-0.04015607  0.00966878 -0.02886212 ... -0.07019146  0.01894818\n",
      "   0.00232804]\n",
      " [-0.04051049  0.00980142 -0.02905718 ... -0.03797981  0.0037691\n",
      "   0.0265603 ]\n",
      " [-0.03947827  0.00945163 -0.02845969 ... -0.04789339  0.00932495\n",
      "  -0.01452854]\n",
      " ...\n",
      " [-0.03824511  0.00914548 -0.02759524 ... -0.00695662  0.01212774\n",
      "   0.01093699]\n",
      " [-0.04052166  0.00978761 -0.02908666 ... -0.06294253  0.03424528\n",
      "  -0.00146282]\n",
      " [-0.03737618  0.00878344 -0.02716619 ... -0.04566007  0.03095722\n",
      "  -0.02826047]]\n"
     ]
    }
   ],
   "source": [
    "print(train_char_vectors.shape)\n",
    "print(\"\\n\")\n",
    "print(train_char_vectors)"
   ]
  },
  {
   "cell_type": "code",
   "execution_count": 20,
   "metadata": {},
   "outputs": [],
   "source": [
    "def pred_new_num_enc(s) :\n",
    "    \n",
    "    pred = s\n",
    "\n",
    "    l = []\n",
    "    ip = []\n",
    "    k=0\n",
    "\n",
    "    for i in range(len(pred)):\n",
    "        l.append(char2idx.get(pred[i]))\n",
    "    #print(l)\n",
    "    #print(char2idx.get(\"PAD\"))        \n",
    "\n",
    "\n",
    "    length = len(l)\n",
    "    #print(length)\n",
    "\n",
    "    if length < max_word_length :\n",
    "        k = max_word_length - length\n",
    "        print(k)\n",
    "\n",
    "        for i in range (0,k) :\n",
    "            l.append(char2idx.get(\"PAD\"))    \n",
    "\n",
    "    else :\n",
    "        l = l[:max_word_length]\n",
    "    #ip.append(l)\n",
    "\n",
    "    l = np.array([l])\n",
    "    #print(l)\n",
    "    \n",
    "    return l"
   ]
  },
  {
   "cell_type": "code",
   "execution_count": 21,
   "metadata": {},
   "outputs": [],
   "source": [
    "def pred_new_vec() :\n",
    "    train_char_vectors = model.predict(l)\n",
    "\n",
    "    #print(train_char_vectors)\n",
    "    \n",
    "    return train_char_vectors"
   ]
  },
  {
   "cell_type": "code",
   "execution_count": 23,
   "metadata": {},
   "outputs": [
    {
     "name": "stdout",
     "output_type": "stream",
     "text": [
      "22\n",
      "22\n",
      "[[0.45327704]]\n"
     ]
    }
   ],
   "source": [
    "a1 = pred_new_num_enc(\"boy\")\n",
    "a2 = pred_new_num_enc(\"man\")\n",
    "\n",
    "print(cosine_similarity(a1 , a2))"
   ]
  },
  {
   "cell_type": "code",
   "execution_count": 24,
   "metadata": {},
   "outputs": [
    {
     "name": "stdout",
     "output_type": "stream",
     "text": [
      "20\n",
      "19\n",
      "[[0.66866157]]\n"
     ]
    }
   ],
   "source": [
    "a3 = pred_new_num_enc(\"apple\")\n",
    "a4 = pred_new_num_enc(\"banana\")\n",
    "\n",
    "print(cosine_similarity(a3 , a4))"
   ]
  },
  {
   "cell_type": "code",
   "execution_count": 25,
   "metadata": {},
   "outputs": [
    {
     "name": "stdout",
     "output_type": "stream",
     "text": [
      "21\n",
      "20\n",
      "[[0.31555707]]\n"
     ]
    }
   ],
   "source": [
    "a5 = pred_new_num_enc(\"girl\")\n",
    "a6 = pred_new_num_enc(\"woman\")\n",
    "\n",
    "print(cosine_similarity(a5 , a6))"
   ]
  },
  {
   "cell_type": "code",
   "execution_count": 27,
   "metadata": {},
   "outputs": [
    {
     "name": "stdout",
     "output_type": "stream",
     "text": [
      "18\n",
      "17\n",
      "[[0.59690781]]\n"
     ]
    }
   ],
   "source": [
    "a7 = pred_new_num_enc(\"cricket\")\n",
    "a8 = pred_new_num_enc(\"football\")\n",
    "\n",
    "print(cosine_similarity(a7 , a8))"
   ]
  },
  {
   "cell_type": "code",
   "execution_count": 28,
   "metadata": {},
   "outputs": [
    {
     "name": "stdout",
     "output_type": "stream",
     "text": [
      "19\n",
      "18\n",
      "[[0.63692091]]\n"
     ]
    }
   ],
   "source": [
    "a9 = pred_new_num_enc(\"laptop\")\n",
    "a10 = pred_new_num_enc(\"cmputer\")\n",
    "\n",
    "print(cosine_similarity(a9 , a10))"
   ]
  },
  {
   "cell_type": "code",
   "execution_count": null,
   "metadata": {},
   "outputs": [],
   "source": []
  }
 ],
 "metadata": {
  "kernelspec": {
   "display_name": "Python 3",
   "language": "python",
   "name": "python3"
  },
  "language_info": {
   "codemirror_mode": {
    "name": "ipython",
    "version": 3
   },
   "file_extension": ".py",
   "mimetype": "text/x-python",
   "name": "python",
   "nbconvert_exporter": "python",
   "pygments_lexer": "ipython3",
   "version": "3.6.6"
  }
 },
 "nbformat": 4,
 "nbformat_minor": 2
}
