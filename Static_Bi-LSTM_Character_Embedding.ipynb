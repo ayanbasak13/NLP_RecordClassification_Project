{
 "cells": [
  {
   "cell_type": "code",
   "execution_count": 1,
   "metadata": {},
   "outputs": [
    {
     "name": "stderr",
     "output_type": "stream",
     "text": [
      "Using TensorFlow backend.\n"
     ]
    }
   ],
   "source": [
    "import pandas as pd\n",
    "import numpy as np\n",
    "\n",
    "from keras.preprocessing.sequence import pad_sequences\n",
    "from keras.models import Model, Input\n",
    "from keras.layers import LSTM, Embedding, merge, Dense, TimeDistributed, Dropout\n",
    "from keras.layers import Bidirectional, concatenate, SpatialDropout1D\n",
    "import sklearn\n",
    "from sklearn.metrics.pairwise import cosine_similarity\n",
    "from numpy import dot\n",
    "from numpy.linalg import norm\n",
    "from numpy import dot\n",
    "\n",
    "\n",
    "import sklearn\n",
    "from sklearn.metrics.pairwise import cosine_similarity\n",
    "from keras.layers import add\n",
    "\n"
   ]
  },
  {
   "cell_type": "code",
   "execution_count": 2,
   "metadata": {},
   "outputs": [],
   "source": [
    "data = pd.read_csv(\"ner_dataset.csv\", encoding=\"latin1\")"
   ]
  },
  {
   "cell_type": "code",
   "execution_count": 3,
   "metadata": {},
   "outputs": [
    {
     "data": {
      "text/html": [
       "<div>\n",
       "<style scoped>\n",
       "    .dataframe tbody tr th:only-of-type {\n",
       "        vertical-align: middle;\n",
       "    }\n",
       "\n",
       "    .dataframe tbody tr th {\n",
       "        vertical-align: top;\n",
       "    }\n",
       "\n",
       "    .dataframe thead th {\n",
       "        text-align: right;\n",
       "    }\n",
       "</style>\n",
       "<table border=\"1\" class=\"dataframe\">\n",
       "  <thead>\n",
       "    <tr style=\"text-align: right;\">\n",
       "      <th></th>\n",
       "      <th>Sentence #</th>\n",
       "      <th>Word</th>\n",
       "      <th>POS</th>\n",
       "      <th>Tag</th>\n",
       "    </tr>\n",
       "  </thead>\n",
       "  <tbody>\n",
       "    <tr>\n",
       "      <th>1048570</th>\n",
       "      <td>Sentence: 47959</td>\n",
       "      <td>they</td>\n",
       "      <td>PRP</td>\n",
       "      <td>O</td>\n",
       "    </tr>\n",
       "    <tr>\n",
       "      <th>1048571</th>\n",
       "      <td>Sentence: 47959</td>\n",
       "      <td>responded</td>\n",
       "      <td>VBD</td>\n",
       "      <td>O</td>\n",
       "    </tr>\n",
       "    <tr>\n",
       "      <th>1048572</th>\n",
       "      <td>Sentence: 47959</td>\n",
       "      <td>to</td>\n",
       "      <td>TO</td>\n",
       "      <td>O</td>\n",
       "    </tr>\n",
       "    <tr>\n",
       "      <th>1048573</th>\n",
       "      <td>Sentence: 47959</td>\n",
       "      <td>the</td>\n",
       "      <td>DT</td>\n",
       "      <td>O</td>\n",
       "    </tr>\n",
       "    <tr>\n",
       "      <th>1048574</th>\n",
       "      <td>Sentence: 47959</td>\n",
       "      <td>attack</td>\n",
       "      <td>NN</td>\n",
       "      <td>O</td>\n",
       "    </tr>\n",
       "  </tbody>\n",
       "</table>\n",
       "</div>"
      ],
      "text/plain": [
       "              Sentence #       Word  POS Tag\n",
       "1048570  Sentence: 47959       they  PRP   O\n",
       "1048571  Sentence: 47959  responded  VBD   O\n",
       "1048572  Sentence: 47959         to   TO   O\n",
       "1048573  Sentence: 47959        the   DT   O\n",
       "1048574  Sentence: 47959     attack   NN   O"
      ]
     },
     "execution_count": 3,
     "metadata": {},
     "output_type": "execute_result"
    }
   ],
   "source": [
    "data = data.fillna(method=\"ffill\")\n",
    "data.tail(5)"
   ]
  },
  {
   "cell_type": "code",
   "execution_count": 4,
   "metadata": {},
   "outputs": [
    {
     "name": "stdout",
     "output_type": "stream",
     "text": [
      "['machar', 'spector', 'hamas-dominated', 'terrorist-related', 'mosleshi', 'moiseyev', 'mihtarlam', 'must', 'four-time', 'three']\n"
     ]
    },
    {
     "data": {
      "text/plain": [
       "35178"
      ]
     },
     "execution_count": 4,
     "metadata": {},
     "output_type": "execute_result"
    }
   ],
   "source": [
    "wordwa = list(set(data[\"Word\"].values))\n",
    "words = []\n",
    "\n",
    "for w in wordwa :\n",
    "    w = str(w)\n",
    "    w = w.lower()\n",
    "    words.append(w)\n",
    "print(words[0:10])\n",
    "n_words = len(words); \n",
    "n_words"
   ]
  },
  {
   "cell_type": "code",
   "execution_count": 5,
   "metadata": {},
   "outputs": [
    {
     "name": "stdout",
     "output_type": "stream",
     "text": [
      "72\n"
     ]
    }
   ],
   "source": [
    "chars = set([w_i for w in words for w_i in w])\n",
    "n_chars = len(chars)\n",
    "print(n_chars)"
   ]
  },
  {
   "cell_type": "code",
   "execution_count": 6,
   "metadata": {},
   "outputs": [],
   "source": [
    "char2idx = {c: i + 2 for i, c in enumerate(chars)}\n",
    "char2idx[\"UNK\"] = 1\n",
    "char2idx[\"PAD\"] = 0"
   ]
  },
  {
   "cell_type": "code",
   "execution_count": 7,
   "metadata": {},
   "outputs": [
    {
     "name": "stdout",
     "output_type": "stream",
     "text": [
      "34\n",
      "15\n"
     ]
    }
   ],
   "source": [
    "print(char2idx['k'])\n",
    "print(char2idx['-'])"
   ]
  },
  {
   "cell_type": "code",
   "execution_count": 8,
   "metadata": {},
   "outputs": [],
   "source": [
    "max_word_length = 25\n",
    "embedded_char_vector_length = 74 # Length of character dictionary\n",
    "char_feature_output = 10"
   ]
  },
  {
   "cell_type": "code",
   "execution_count": 9,
   "metadata": {},
   "outputs": [],
   "source": [
    "X_char = []\n",
    "for word in words :\n",
    "    l1 = []\n",
    "    #if (len(word) > max_word_length) :\n",
    "    #    print(len(word))\n",
    "    for i in range(max_word_length):\n",
    "        try:\n",
    "            l1.append(char2idx.get(word[i]))\n",
    "        except:\n",
    "            l1.append(char2idx.get(\"PAD\"))    \n",
    "    \n",
    "    X_char.append(l1)"
   ]
  },
  {
   "cell_type": "code",
   "execution_count": 10,
   "metadata": {},
   "outputs": [
    {
     "name": "stdout",
     "output_type": "stream",
     "text": [
      "[[67, 3, 24, 69, 3, 35, 0, 0, 0, 0, 0, 0, 0, 0, 0, 0, 0, 0, 0, 0, 0, 0, 0, 0, 0], [13, 55, 5, 24, 58, 68, 35, 0, 0, 0, 0, 0, 0, 0, 0, 0, 0, 0, 0, 0, 0, 0, 0, 0, 0], [69, 3, 67, 3, 13, 15, 43, 68, 67, 70, 64, 3, 58, 5, 43, 0, 0, 0, 0, 0, 0, 0, 0, 0, 0], [58, 5, 35, 35, 68, 35, 70, 13, 58, 15, 35, 5, 48, 3, 58, 5, 43, 0, 0, 0, 0, 0, 0, 0, 0], [67, 68, 13, 48, 5, 13, 69, 70, 0, 0, 0, 0, 0, 0, 0, 0, 0, 0, 0, 0, 0, 0, 0, 0, 0]]\n"
     ]
    }
   ],
   "source": [
    "print(X_char[0:5])"
   ]
  },
  {
   "cell_type": "code",
   "execution_count": 11,
   "metadata": {},
   "outputs": [],
   "source": [
    "char_input = Input(shape=(max_word_length,), dtype='float32', name='char_input')\n",
    "char_input1 = Embedding(embedded_char_vector_length, 16, input_length = max_word_length)(char_input)\n",
    "char_input2 = Dropout(0.2)(char_input1)\n",
    "'''lstm_out_forward = LSTM(char_feature_output, dropout=0.2, recurrent_dropout=0.2)(char_input2)\n",
    "lstm_out_backward = LSTM(char_feature_output, go_backwards=True, dropout=0.2, recurrent_dropout=0.2)(char_input2)'''\n",
    "\n",
    "merged = (Bidirectional(LSTM(units=5, return_sequences=False,trainable = False,\n",
    "                                recurrent_dropout=0.5)))(char_input2)\n",
    "#merged = merge([lstm_out_forward, lstm_out_backward], mode='concat', concat_axis=1)\n",
    "\n",
    "#merged = add([lstm_out_forward, lstm_out_backward])\n",
    "#model = Model(input=[char_input], output=[merged])\n",
    "model = Model(char_input, merged)"
   ]
  },
  {
   "cell_type": "code",
   "execution_count": 12,
   "metadata": {},
   "outputs": [
    {
     "name": "stdout",
     "output_type": "stream",
     "text": [
      "_________________________________________________________________\n",
      "Layer (type)                 Output Shape              Param #   \n",
      "=================================================================\n",
      "char_input (InputLayer)      (None, 25)                0         \n",
      "_________________________________________________________________\n",
      "embedding_1 (Embedding)      (None, 25, 16)            1184      \n",
      "_________________________________________________________________\n",
      "dropout_1 (Dropout)          (None, 25, 16)            0         \n",
      "_________________________________________________________________\n",
      "bidirectional_1 (Bidirection (None, 10)                880       \n",
      "=================================================================\n",
      "Total params: 2,064\n",
      "Trainable params: 2,064\n",
      "Non-trainable params: 0\n",
      "_________________________________________________________________\n"
     ]
    }
   ],
   "source": [
    "model.summary()"
   ]
  },
  {
   "cell_type": "code",
   "execution_count": 13,
   "metadata": {},
   "outputs": [
    {
     "name": "stdout",
     "output_type": "stream",
     "text": [
      "(1, 74, 16)\n",
      "[array([[-0.00188003, -0.01638674, -0.01519029, ...,  0.03953842,\n",
      "         0.04103046, -0.04043776],\n",
      "       [-0.01378814, -0.01274761,  0.00859804, ..., -0.01827698,\n",
      "         0.02370476, -0.04771221],\n",
      "       [ 0.03604699, -0.01655985,  0.02410525, ..., -0.0238024 ,\n",
      "        -0.01044647,  0.00878341],\n",
      "       ...,\n",
      "       [-0.01469404,  0.01237424,  0.04353926, ..., -0.02892401,\n",
      "         0.03186427,  0.03806816],\n",
      "       [-0.01772611, -0.01272834, -0.02801614, ..., -0.03083432,\n",
      "         0.04495514,  0.0139717 ],\n",
      "       [ 0.02678974,  0.00505128,  0.00439842, ...,  0.0195219 ,\n",
      "        -0.0411659 , -0.01795516]], dtype=float32)]\n"
     ]
    }
   ],
   "source": [
    "p = model.layers[1].get_weights()\n",
    "\n",
    "print(np.array(p).shape)\n",
    "print(p)"
   ]
  },
  {
   "cell_type": "code",
   "execution_count": 14,
   "metadata": {},
   "outputs": [
    {
     "name": "stdout",
     "output_type": "stream",
     "text": [
      "[[67  3 24 69  3 35  0  0  0  0  0  0  0  0  0  0  0  0  0  0  0  0  0  0\n",
      "   0]\n",
      " [13 55  5 24 58 68 35  0  0  0  0  0  0  0  0  0  0  0  0  0  0  0  0  0\n",
      "   0]\n",
      " [69  3 67  3 13 15 43 68 67 70 64  3 58  5 43  0  0  0  0  0  0  0  0  0\n",
      "   0]\n",
      " [58  5 35 35 68 35 70 13 58 15 35  5 48  3 58  5 43  0  0  0  0  0  0  0\n",
      "   0]\n",
      " [67 68 13 48  5 13 69 70  0  0  0  0  0  0  0  0  0  0  0  0  0  0  0  0\n",
      "   0]]\n"
     ]
    }
   ],
   "source": [
    "X1 = np.array(X_char[0:5])\n",
    "print(X1)\n",
    "train_char_vectors = model.predict(X1)\n",
    "        "
   ]
  },
  {
   "cell_type": "code",
   "execution_count": 15,
   "metadata": {},
   "outputs": [
    {
     "name": "stdout",
     "output_type": "stream",
     "text": [
      "(5, 10)\n",
      "\n",
      "\n",
      "[[ 0.02360075 -0.05752382 -0.03724067 -0.00131877  0.04969073  0.01534668\n",
      "   0.03073062  0.03367455 -0.01656215 -0.02331233]\n",
      " [ 0.02339999 -0.05733719 -0.03739831 -0.0014376   0.04968469  0.02541785\n",
      "   0.00581778 -0.01002046 -0.01530177 -0.01155149]\n",
      " [ 0.02012022 -0.05458629 -0.03819003 -0.00158399  0.04833465  0.00127899\n",
      "   0.00428706  0.01371874 -0.0199625  -0.01723275]\n",
      " [ 0.01755146 -0.05269655 -0.03817954 -0.00101338  0.04687458 -0.00983456\n",
      "  -0.00222437  0.00456038  0.01787201  0.00350338]\n",
      " [ 0.02332991 -0.05729531 -0.03743525 -0.0014512   0.04967834  0.02162964\n",
      "   0.00436482  0.00147249 -0.01314118 -0.0195953 ]]\n"
     ]
    }
   ],
   "source": [
    "print(train_char_vectors.shape)\n",
    "print(\"\\n\")\n",
    "print(train_char_vectors)"
   ]
  },
  {
   "cell_type": "code",
   "execution_count": 16,
   "metadata": {},
   "outputs": [],
   "source": [
    "def pred_new_num_enc(s) :\n",
    "    \n",
    "    pred = s\n",
    "\n",
    "    l = []\n",
    "    ip = []\n",
    "    k=0\n",
    "\n",
    "    for i in range(len(pred)):\n",
    "        l.append(char2idx.get(pred[i]))\n",
    "    #print(l)\n",
    "    #print(char2idx.get(\"PAD\"))        \n",
    "\n",
    "\n",
    "    length = len(l)\n",
    "    #print(length)\n",
    "\n",
    "    if length < max_word_length :\n",
    "        k = max_word_length - length\n",
    "        #print(k)\n",
    "\n",
    "        for i in range (0,k) :\n",
    "            l.append(char2idx.get(\"PAD\"))    \n",
    "\n",
    "    else :\n",
    "        l = l[:max_word_length]\n",
    "    #ip.append(l)\n",
    "\n",
    "    l = np.array([l])\n",
    "    #print(l)\n",
    "    \n",
    "    return l"
   ]
  },
  {
   "cell_type": "code",
   "execution_count": 20,
   "metadata": {},
   "outputs": [],
   "source": [
    "def pred_new_vec(l) :\n",
    "    train_char_vectors = model.predict(l)\n",
    "\n",
    "    #print(train_char_vectors)\n",
    "    \n",
    "    return train_char_vectors"
   ]
  },
  {
   "cell_type": "code",
   "execution_count": 23,
   "metadata": {},
   "outputs": [
    {
     "name": "stdout",
     "output_type": "stream",
     "text": [
      "21\n",
      "22\n",
      "[[ 0.023634   -0.05762996 -0.03712891 -0.00118482  0.04966611  0.01519991\n",
      "   0.0433609   0.01719956 -0.01202335 -0.02731748]]\n",
      "[[0.99834657]]\n"
     ]
    }
   ],
   "source": [
    "a1 = pred_new_num_enc(\"name\")\n",
    "a2 = pred_new_num_enc(\"nam\")\n",
    "\n",
    "print(pred_new_vec(a1))\n",
    "print(cosine_similarity(pred_new_vec(a1) , pred_new_vec(a2)))"
   ]
  },
  {
   "cell_type": "code",
   "execution_count": 24,
   "metadata": {},
   "outputs": [
    {
     "name": "stdout",
     "output_type": "stream",
     "text": [
      "21\n",
      "20\n",
      "[[0.9980316]]\n"
     ]
    }
   ],
   "source": [
    "a3 = pred_new_num_enc(\"name\")\n",
    "a4 = pred_new_num_enc(\"nam-e\")\n",
    "\n",
    "print(cosine_similarity(pred_new_vec(a3) , pred_new_vec(a4)))"
   ]
  },
  {
   "cell_type": "code",
   "execution_count": 25,
   "metadata": {},
   "outputs": [
    {
     "name": "stdout",
     "output_type": "stream",
     "text": [
      "18\n",
      "21\n",
      "[[0.99301356]]\n"
     ]
    }
   ],
   "source": [
    "a5 = pred_new_num_enc(\"address\")\n",
    "a6 = pred_new_num_enc(\"addr\")\n",
    "\n",
    "print(cosine_similarity(pred_new_vec(a5) , pred_new_vec(a6)))"
   ]
  },
  {
   "cell_type": "code",
   "execution_count": 26,
   "metadata": {},
   "outputs": [
    {
     "name": "stdout",
     "output_type": "stream",
     "text": [
      "18\n",
      "20\n",
      "[[0.98561466]]\n"
     ]
    }
   ],
   "source": [
    "a7 = pred_new_num_enc(\"address\")\n",
    "a8 = pred_new_num_enc(\"adres\")\n",
    "\n",
    "print(cosine_similarity(pred_new_vec(a7) , pred_new_vec(a8)))"
   ]
  },
  {
   "cell_type": "code",
   "execution_count": 27,
   "metadata": {},
   "outputs": [
    {
     "name": "stdout",
     "output_type": "stream",
     "text": [
      "18\n",
      "17\n",
      "[[0.88158864]]\n"
     ]
    }
   ],
   "source": [
    "a9 = pred_new_num_enc(\"contact\")\n",
    "a10 = pred_new_num_enc(\"phone-no\")\n",
    "\n",
    "print(cosine_similarity(pred_new_vec(a9) , pred_new_vec(a10)))"
   ]
  },
  {
   "cell_type": "code",
   "execution_count": 28,
   "metadata": {},
   "outputs": [
    {
     "name": "stdout",
     "output_type": "stream",
     "text": [
      "22\n",
      "19\n",
      "[[0.97072166]]\n"
     ]
    }
   ],
   "source": [
    "a11 = pred_new_num_enc(\"sex\")\n",
    "a12 = pred_new_num_enc(\"gender\")\n",
    "\n",
    "print(cosine_similarity(pred_new_vec(a11) , pred_new_vec(a12)))"
   ]
  },
  {
   "cell_type": "code",
   "execution_count": null,
   "metadata": {},
   "outputs": [],
   "source": []
  }
 ],
 "metadata": {
  "kernelspec": {
   "display_name": "Python 3",
   "language": "python",
   "name": "python3"
  },
  "language_info": {
   "codemirror_mode": {
    "name": "ipython",
    "version": 3
   },
   "file_extension": ".py",
   "mimetype": "text/x-python",
   "name": "python",
   "nbconvert_exporter": "python",
   "pygments_lexer": "ipython3",
   "version": "3.6.6"
  }
 },
 "nbformat": 4,
 "nbformat_minor": 2
}
